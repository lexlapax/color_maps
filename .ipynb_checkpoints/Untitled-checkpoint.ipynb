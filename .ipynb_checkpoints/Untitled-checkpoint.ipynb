{
 "cells": [
  {
   "cell_type": "code",
   "execution_count": 23,
   "id": "3ff53e64",
   "metadata": {},
   "outputs": [],
   "source": [
    "import math\n",
    "import numpy as np\n",
    "import matplotlib as mpl\n",
    "import matplotlib.pyplot as plt\n",
    "import palettable as pal\n",
    "#%matplotlib inline\n"
   ]
  },
  {
   "cell_type": "code",
   "execution_count": 10,
   "id": "6eb65df5",
   "metadata": {},
   "outputs": [
    {
     "data": {
      "image/png": "[encoded data removed]",
      "text/html": [
       "<div style=\"vertical-align: middle;\"><strong>twilight</strong> </div><div class=\"cmap\"><img alt=\"twilight colormap\" title=\"twilight\" style=\"border: 1px solid #555;\" src=\"data:image/png;base64,iVBORw0KGgoAAAANSUhEUgAAAgAAAABACAYAAABsv8+/AAAAF3RFWHRUaXRsZQB0d2lsaWdodCBjb2xvcm1hcEflX9wAAAAddEVYdERlc2NyaXB0aW9uAHR3aWxpZ2h0IGNvbG9ybWFwbpu49QAAADB0RVh0QXV0aG9yAE1hdHBsb3RsaWIgdjMuNi4yLCBodHRwczovL21hdHBsb3RsaWIub3Jncc5VXwAAADJ0RVh0U29mdHdhcmUATWF0cGxvdGxpYiB2My42LjIsIGh0dHBzOi8vbWF0cGxvdGxpYi5vcmdfaMp4AAACuUlEQVR4nO3WQXLbMAwFUJD3P2C37UHELERRoKzW3eO9mUxAEKQdx5r57fevPyOm0SIiRlyNketx1qs37nrbm/3j2h9n73jujbHVx7znXs9zj/Of63Ru3ZfmHv37NfK5/cx9b6z3f77mZ2+8zH3tz3viZS/SmXj255vdZ+97IvVz77pz1esP2ee32eMv/Ws+f3D5jiPPja2/rb/0xueHfs/e/5w09/ggj7SXZ4/5AeSz41j1OI5H7zi/5XM91tlj7T3rMY6ImPNxrs8n5KrTXsz7Yp7f9uaZSPsj98Z86o5Uz34bW2890S3vR0Q7P9M2y4iW6tmPluo0M6v336lu7WO/R4vW9nP9H+s839edL3Pf6hbzfMz+9R4jzcX9Wu3ea+0x97Y3f/rWG/v+y3y0z97/zpz9Fq2/z639q+7XXluz20zf91bd25pb53pL67e5tubOOs/kXkt3zf5zpj/mW4voPa37duZe93u97unRUv987TzX0/2f/dZ6RE/1dfeq3/feZ9vLzKyjpXvmN36r9y/Hevqu/Yh7//EUx/mvBgCqEQAAoCABAAAKEgAAoCABAAAKEgAAoCABAAAKEgAAoCABAAAKEgAAoCABAAAKEgAAoCABAAAKEgAAoCABAAAKEgAAoCABAAAKEgAAoCABAAAKEgAAoCABAAAKEgAAoCABAAAKEgAAoCABAAAKEgAAoCABAAAKEgAAoCABAAAKEgAAoCABAAAKEgAAoCABAAAKEgAAoCABAAAKEgAAoCABAAAKEgAAoCABAAAKEgAAoCABAAAKEgAAoCABAAAKEgAAoCABAAAKEgAAoCABAAAKEgAAoCABAAAKEgAAoCABAAAKEgAAoCABAAAKEgAAoCABAAAKEgAAoCABAAAKEgAAoCABAAAKEgAAoCABAAAKEgAAoCABAAAK+gFQq+8ozaIrHgAAAABJRU5ErkJggg==\"></div><div style=\"vertical-align: middle; max-width: 514px; display: flex; justify-content: space-between;\"><div style=\"float: left;\"><div title=\"#e2d9e2ff\" style=\"display: inline-block; width: 1em; height: 1em; margin: 0; vertical-align: middle; border: 1px solid #555; background-color: #e2d9e2ff;\"></div> under</div><div style=\"margin: 0 auto; display: inline-block;\">bad <div title=\"#00000000\" style=\"display: inline-block; width: 1em; height: 1em; margin: 0; vertical-align: middle; border: 1px solid #555; background-color: #00000000;\"></div></div><div style=\"float: right;\">over <div title=\"#e2d9e2ff\" style=\"display: inline-block; width: 1em; height: 1em; margin: 0; vertical-align: middle; border: 1px solid #555; background-color: #e2d9e2ff;\"></div></div>"
      ],
      "text/plain": [
       "<matplotlib.colors.ListedColormap at 0x10548e650>"
      ]
     },
     "execution_count": 10,
     "metadata": {},
     "output_type": "execute_result"
    }
   ],
   "source": [
    "mpl._cm_listed.cmaps['twilight']"
   ]
  },
  {
   "cell_type": "code",
   "execution_count": 11,
   "id": "eb9cd6fd",
   "metadata": {},
   "outputs": [
    {
     "data": {
      "image/png": "[encoded data removed]",
      "text/html": [
       "<div style=\"vertical-align: middle;\"><strong>twilight_shifted</strong> </div><div class=\"cmap\"><img alt=\"twilight_shifted colormap\" title=\"twilight_shifted\" style=\"border: 1px solid #555;\" src=\"data:image/png;base64,iVBORw0KGgoAAAANSUhEUgAAAgAAAABACAYAAABsv8+/AAAAH3RFWHRUaXRsZQB0d2lsaWdodF9zaGlmdGVkIGNvbG9ybWFwuuDiawAAACV0RVh0RGVzY3JpcHRpb24AdHdpbGlnaHRfc2hpZnRlZCBjb2xvcm1hcGcnIksAAAAwdEVYdEF1dGhvcgBNYXRwbG90bGliIHYzLjYuMiwgaHR0cHM6Ly9tYXRwbG90bGliLm9yZ3HOVV8AAAAydEVYdFNvZnR3YXJlAE1hdHBsb3RsaWIgdjMuNi4yLCBodHRwczovL21hdHBsb3RsaWIub3JnX2jKeAAAArhJREFUeJzt1kuS6zYMBdALbSELyTD735iYgSWR+uQzxzlVr0UCoOS2269u/fnHXyNJKklGpVKpUWcllTp+1uwvtcq2rCvJlqrZu2rnvma9siXXfunVNs/U7OXo/WqVfKxTx5k6alfvd01VajvnllpVcu63dV+zv91r575etTzmcp/b1n7+R21e61Vf1tus1Wf/u17LvrZ83qM+5s/aur/WW71ryz0fb+91n+dbd5551/6pXu+386zdPqb5vO01s6xT17nts770U/e5z/1yLsv5tZf7+fP7tPaub2HNb2Ouj2v2klm7vuep1MhhLNdlPcax+62TkbGsM0bGbb3f1+Oc35fa/juzXO+1r/08+9XL/jV3rPd/qr9fV/axvKbjGfu6H7f9OJ599Y7rvM96ZpnZH/PXTB73yDKXx0yue82P4D13610v9eznNrd8fLeZcZs9f/13/zX3L/8+Z/Ks1bXeX737/P48n7U+rtptLsl+/I3fnpEx5/5zfZ4fv/PHs/az/pz72D/nZ/1Ze/QfvdzWs5cko5aZc/37jyBbAIB2BAAAaEgAAICGBAAAaEgAAICGBAAAaEgAAICGBAAAaEgAAICGBAAAaEgAAICGBAAAaEgAAICGBAAAaEgAAICGBAAAaEgAAICGBAAAaEgAAICGBAAAaEgAAICGBAAAaEgAAICGBAAAaEgAAICGBAAAaEgAAICGBAAAaEgAAICGBAAAaEgAAICGBAAAaEgAAICGBAAAaEgAAICGBAAAaEgAAICGBAAAaEgAAICGBAAAaEgAAICGBAAAaEgAAICGBAAAaEgAAICGBAAAaEgAAICGBAAAaEgAAICGBAAAaEgAAICGBAAAaEgAAICGBAAAaEgAAICGBAAAaEgAAICGBAAAaEgAAICGBAAAaEgAAICGBAAAaEgAAICG/gZf+egHTx9s1wAAAABJRU5ErkJggg==\"></div><div style=\"vertical-align: middle; max-width: 514px; display: flex; justify-content: space-between;\"><div style=\"float: left;\"><div title=\"#301437ff\" style=\"display: inline-block; width: 1em; height: 1em; margin: 0; vertical-align: middle; border: 1px solid #555; background-color: #301437ff;\"></div> under</div><div style=\"margin: 0 auto; display: inline-block;\">bad <div title=\"#00000000\" style=\"display: inline-block; width: 1em; height: 1em; margin: 0; vertical-align: middle; border: 1px solid #555; background-color: #00000000;\"></div></div><div style=\"float: right;\">over <div title=\"#2f1436ff\" style=\"display: inline-block; width: 1em; height: 1em; margin: 0; vertical-align: middle; border: 1px solid #555; background-color: #2f1436ff;\"></div></div>"
      ],
      "text/plain": [
       "<matplotlib.colors.ListedColormap at 0x10548e690>"
      ]
     },
     "execution_count": 11,
     "metadata": {},
     "output_type": "execute_result"
    }
   ],
   "source": [
    "mpl._cm_listed.cmaps['twilight_shifted']"
   ]
  },
  {
   "cell_type": "code",
   "execution_count": 14,
   "id": "b0ee2572",
   "metadata": {},
   "outputs": [
    {
     "data": {
      "text/plain": [
       "{'listed': ((0.4980392156862745, 0.788235294117647, 0.4980392156862745),\n",
       "  (0.7450980392156863, 0.6823529411764706, 0.8313725490196079),\n",
       "  (0.9921568627450981, 0.7529411764705882, 0.5254901960784314),\n",
       "  (1.0, 1.0, 0.6),\n",
       "  (0.2196078431372549, 0.4235294117647059, 0.6901960784313725),\n",
       "  (0.9411764705882353, 0.00784313725490196, 0.4980392156862745),\n",
       "  (0.7490196078431373, 0.3568627450980392, 0.09019607843137253),\n",
       "  (0.4, 0.4, 0.4))}"
      ]
     },
     "execution_count": 14,
     "metadata": {},
     "output_type": "execute_result"
    }
   ],
   "source": [
    "mpl._cm.datad['Accent']"
   ]
  },
  {
   "cell_type": "code",
   "execution_count": 18,
   "id": "74ac9ea3",
   "metadata": {},
   "outputs": [
    {
     "data": {
      "image/png": "[encoded data removed]",
      "text/html": [
       "<div style=\"vertical-align: middle;\"><strong>twilight</strong> </div><div class=\"cmap\"><img alt=\"twilight colormap\" title=\"twilight\" style=\"border: 1px solid #555;\" src=\"data:image/png;base64,iVBORw0KGgoAAAANSUhEUgAAAgAAAABACAYAAABsv8+/AAAAF3RFWHRUaXRsZQB0d2lsaWdodCBjb2xvcm1hcEflX9wAAAAddEVYdERlc2NyaXB0aW9uAHR3aWxpZ2h0IGNvbG9ybWFwbpu49QAAADB0RVh0QXV0aG9yAE1hdHBsb3RsaWIgdjMuNi4yLCBodHRwczovL21hdHBsb3RsaWIub3Jncc5VXwAAADJ0RVh0U29mdHdhcmUATWF0cGxvdGxpYiB2My42LjIsIGh0dHBzOi8vbWF0cGxvdGxpYi5vcmdfaMp4AAACuUlEQVR4nO3WQXLbMAwFUJD3P2C37UHELERRoKzW3eO9mUxAEKQdx5r57fevPyOm0SIiRlyNketx1qs37nrbm/3j2h9n73jujbHVx7znXs9zj/Of63Ru3ZfmHv37NfK5/cx9b6z3f77mZ2+8zH3tz3viZS/SmXj255vdZ+97IvVz77pz1esP2ee32eMv/Ws+f3D5jiPPja2/rb/0xueHfs/e/5w09/ggj7SXZ4/5AeSz41j1OI5H7zi/5XM91tlj7T3rMY6ImPNxrs8n5KrTXsz7Yp7f9uaZSPsj98Z86o5Uz34bW2890S3vR0Q7P9M2y4iW6tmPluo0M6v336lu7WO/R4vW9nP9H+s839edL3Pf6hbzfMz+9R4jzcX9Wu3ea+0x97Y3f/rWG/v+y3y0z97/zpz9Fq2/z639q+7XXluz20zf91bd25pb53pL67e5tubOOs/kXkt3zf5zpj/mW4voPa37duZe93u97unRUv987TzX0/2f/dZ6RE/1dfeq3/feZ9vLzKyjpXvmN36r9y/Hevqu/Yh7//EUx/mvBgCqEQAAoCABAAAKEgAAoCABAAAKEgAAoCABAAAKEgAAoCABAAAKEgAAoCABAAAKEgAAoCABAAAKEgAAoCABAAAKEgAAoCABAAAKEgAAoCABAAAKEgAAoCABAAAKEgAAoCABAAAKEgAAoCABAAAKEgAAoCABAAAKEgAAoCABAAAKEgAAoCABAAAKEgAAoCABAAAKEgAAoCABAAAKEgAAoCABAAAKEgAAoCABAAAKEgAAoCABAAAKEgAAoCABAAAKEgAAoCABAAAKEgAAoCABAAAKEgAAoCABAAAKEgAAoCABAAAKEgAAoCABAAAKEgAAoCABAAAKEgAAoCABAAAKEgAAoCABAAAKEgAAoCABAAAKEgAAoCABAAAK+gFQq+8ozaIrHgAAAABJRU5ErkJggg==\"></div><div style=\"vertical-align: middle; max-width: 514px; display: flex; justify-content: space-between;\"><div style=\"float: left;\"><div title=\"#e2d9e2ff\" style=\"display: inline-block; width: 1em; height: 1em; margin: 0; vertical-align: middle; border: 1px solid #555; background-color: #e2d9e2ff;\"></div> under</div><div style=\"margin: 0 auto; display: inline-block;\">bad <div title=\"#00000000\" style=\"display: inline-block; width: 1em; height: 1em; margin: 0; vertical-align: middle; border: 1px solid #555; background-color: #00000000;\"></div></div><div style=\"float: right;\">over <div title=\"#e2d9e2ff\" style=\"display: inline-block; width: 1em; height: 1em; margin: 0; vertical-align: middle; border: 1px solid #555; background-color: #e2d9e2ff;\"></div></div>"
      ],
      "text/plain": [
       "<matplotlib.colors.ListedColormap at 0x10fc23d90>"
      ]
     },
     "execution_count": 18,
     "metadata": {},
     "output_type": "execute_result"
    }
   ],
   "source": [
    "plt.colormaps['twilight']"
   ]
  },
  {
   "cell_type": "code",
   "execution_count": 19,
   "id": "3263d852",
   "metadata": {},
   "outputs": [
    {
     "data": {
      "image/png": "[encoded data removed]",
      "text/html": [
       "<div style=\"vertical-align: middle;\"><strong>twilight</strong> </div><div class=\"cmap\"><img alt=\"twilight colormap\" title=\"twilight\" style=\"border: 1px solid #555;\" src=\"data:image/png;base64,iVBORw0KGgoAAAANSUhEUgAAAgAAAABACAYAAABsv8+/AAAAF3RFWHRUaXRsZQB0d2lsaWdodCBjb2xvcm1hcEflX9wAAAAddEVYdERlc2NyaXB0aW9uAHR3aWxpZ2h0IGNvbG9ybWFwbpu49QAAADB0RVh0QXV0aG9yAE1hdHBsb3RsaWIgdjMuNi4yLCBodHRwczovL21hdHBsb3RsaWIub3Jncc5VXwAAADJ0RVh0U29mdHdhcmUATWF0cGxvdGxpYiB2My42LjIsIGh0dHBzOi8vbWF0cGxvdGxpYi5vcmdfaMp4AAACuUlEQVR4nO3WQXLbMAwFUJD3P2C37UHELERRoKzW3eO9mUxAEKQdx5r57fevPyOm0SIiRlyNketx1qs37nrbm/3j2h9n73jujbHVx7znXs9zj/Of63Ru3ZfmHv37NfK5/cx9b6z3f77mZ2+8zH3tz3viZS/SmXj255vdZ+97IvVz77pz1esP2ee32eMv/Ws+f3D5jiPPja2/rb/0xueHfs/e/5w09/ggj7SXZ4/5AeSz41j1OI5H7zi/5XM91tlj7T3rMY6ImPNxrs8n5KrTXsz7Yp7f9uaZSPsj98Z86o5Uz34bW2890S3vR0Q7P9M2y4iW6tmPluo0M6v336lu7WO/R4vW9nP9H+s839edL3Pf6hbzfMz+9R4jzcX9Wu3ea+0x97Y3f/rWG/v+y3y0z97/zpz9Fq2/z639q+7XXluz20zf91bd25pb53pL67e5tubOOs/kXkt3zf5zpj/mW4voPa37duZe93u97unRUv987TzX0/2f/dZ6RE/1dfeq3/feZ9vLzKyjpXvmN36r9y/Hevqu/Yh7//EUx/mvBgCqEQAAoCABAAAKEgAAoCABAAAKEgAAoCABAAAKEgAAoCABAAAKEgAAoCABAAAKEgAAoCABAAAKEgAAoCABAAAKEgAAoCABAAAKEgAAoCABAAAKEgAAoCABAAAKEgAAoCABAAAKEgAAoCABAAAKEgAAoCABAAAKEgAAoCABAAAKEgAAoCABAAAKEgAAoCABAAAKEgAAoCABAAAKEgAAoCABAAAKEgAAoCABAAAKEgAAoCABAAAKEgAAoCABAAAKEgAAoCABAAAKEgAAoCABAAAKEgAAoCABAAAKEgAAoCABAAAKEgAAoCABAAAKEgAAoCABAAAKEgAAoCABAAAKEgAAoCABAAAKEgAAoCABAAAKEgAAoCABAAAK+gFQq+8ozaIrHgAAAABJRU5ErkJggg==\"></div><div style=\"vertical-align: middle; max-width: 514px; display: flex; justify-content: space-between;\"><div style=\"float: left;\"><div title=\"#e2d9e2ff\" style=\"display: inline-block; width: 1em; height: 1em; margin: 0; vertical-align: middle; border: 1px solid #555; background-color: #e2d9e2ff;\"></div> under</div><div style=\"margin: 0 auto; display: inline-block;\">bad <div title=\"#00000000\" style=\"display: inline-block; width: 1em; height: 1em; margin: 0; vertical-align: middle; border: 1px solid #555; background-color: #00000000;\"></div></div><div style=\"float: right;\">over <div title=\"#e2d9e2ff\" style=\"display: inline-block; width: 1em; height: 1em; margin: 0; vertical-align: middle; border: 1px solid #555; background-color: #e2d9e2ff;\"></div></div>"
      ],
      "text/plain": [
       "<matplotlib.colors.ListedColormap at 0x11c0c7c90>"
      ]
     },
     "execution_count": 19,
     "metadata": {},
     "output_type": "execute_result"
    }
   ],
   "source": [
    "mpl.colormaps['twilight']"
   ]
  },
  {
   "cell_type": "code",
   "execution_count": 26,
   "id": "069ced1c",
   "metadata": {},
   "outputs": [
    {
     "name": "stdout",
     "output_type": "stream",
     "text": [
      "Aquatic1          qualitative     5\n",
      "Aquatic2          qualitative     5\n",
      "Aquatic3          qualitative     5\n",
      "Cavalcanti        qualitative     5\n",
      "Chevalier         qualitative     4\n",
      "Darjeeling1       qualitative     4\n",
      "Darjeeling2       qualitative     5\n",
      "Darjeeling3       qualitative     5\n",
      "Darjeeling4       qualitative     5\n",
      "FantasticFox1     qualitative     5\n",
      "FantasticFox2     qualitative     5\n",
      "GrandBudapest1    qualitative     4\n",
      "GrandBudapest2    qualitative     4\n",
      "GrandBudapest3    qualitative     6\n",
      "GrandBudapest4    qualitative     5\n",
      "GrandBudapest5    qualitative     5\n",
      "IsleOfDogs1       qualitative     5\n",
      "IsleOfDogs2       qualitative     6\n",
      "IsleOfDogs3       qualitative     4\n",
      "Margot1           qualitative     5\n",
      "Margot2           qualitative     4\n",
      "Margot3           qualitative     4\n",
      "Mendl             qualitative     4\n",
      "Moonrise1         qualitative     5\n",
      "Moonrise2         qualitative     4\n",
      "Moonrise3         qualitative     4\n",
      "Moonrise4         qualitative     5\n",
      "Moonrise5         qualitative     6\n",
      "Moonrise6         qualitative     5\n",
      "Moonrise7         qualitative     5\n",
      "Royal1            qualitative     4\n",
      "Royal2            qualitative     5\n",
      "Royal3            qualitative     5\n",
      "Zissou            qualitative     5\n"
     ]
    }
   ],
   "source": [
    "pal.wesanderson.print_maps()"
   ]
  },
  {
   "cell_type": "code",
   "execution_count": null,
   "id": "0c05e34d",
   "metadata": {},
   "outputs": [],
   "source": []
  }
 ],
 "metadata": {
  "kernelspec": {
   "display_name": "Python 3 (ipykernel)",
   "language": "python",
   "name": "python3"
  },
  "language_info": {
   "codemirror_mode": {
    "name": "ipython",
    "version": 3
   },
   "file_extension": ".py",
   "mimetype": "text/x-python",
   "name": "python",
   "nbconvert_exporter": "python",
   "pygments_lexer": "ipython3",
   "version": "3.11.0"
  }
 },
 "nbformat": 4,
 "nbformat_minor": 5
}
