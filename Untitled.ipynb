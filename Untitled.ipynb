{
 "cells": [
  {
   "cell_type": "code",
   "execution_count": 41,
   "id": "8dd8ec10",
   "metadata": {},
   "outputs": [],
   "source": [
    "import math\n",
    "import numpy as np\n",
    "import matplotlib as mpl\n",
    "import matplotlib.pyplot as plt\n",
    "import palettable as pal\n",
    "import ipythonblocks\n",
    "#%matplotlib inline\n"
   ]
  },
  {
   "cell_type": "code",
   "execution_count": 10,
   "id": "f7225623",
   "metadata": {},
   "outputs": [
    {
     "data": {
      "image/png": "[encoded data removed]",
      "text/html": [
       "<div style=\"vertical-align: middle;\"><strong>twilight</strong> </div><div class=\"cmap\"><img alt=\"twilight colormap\" title=\"twilight\" style=\"border: 1px solid #555;\" src=\"data:image/png;base64,iVBORw0KGgoAAAANSUhEUgAAAgAAAABACAYAAABsv8+/AAAAF3RFWHRUaXRsZQB0d2lsaWdodCBjb2xvcm1hcEflX9wAAAAddEVYdERlc2NyaXB0aW9uAHR3aWxpZ2h0IGNvbG9ybWFwbpu49QAAADB0RVh0QXV0aG9yAE1hdHBsb3RsaWIgdjMuNi4yLCBodHRwczovL21hdHBsb3RsaWIub3Jncc5VXwAAADJ0RVh0U29mdHdhcmUATWF0cGxvdGxpYiB2My42LjIsIGh0dHBzOi8vbWF0cGxvdGxpYi5vcmdfaMp4AAACuUlEQVR4nO3WQXLbMAwFUJD3P2C37UHELERRoKzW3eO9mUxAEKQdx5r57fevPyOm0SIiRlyNketx1qs37nrbm/3j2h9n73jujbHVx7znXs9zj/Of63Ru3ZfmHv37NfK5/cx9b6z3f77mZ2+8zH3tz3viZS/SmXj255vdZ+97IvVz77pz1esP2ee32eMv/Ws+f3D5jiPPja2/rb/0xueHfs/e/5w09/ggj7SXZ4/5AeSz41j1OI5H7zi/5XM91tlj7T3rMY6ImPNxrs8n5KrTXsz7Yp7f9uaZSPsj98Z86o5Uz34bW2890S3vR0Q7P9M2y4iW6tmPluo0M6v336lu7WO/R4vW9nP9H+s839edL3Pf6hbzfMz+9R4jzcX9Wu3ea+0x97Y3f/rWG/v+y3y0z97/zpz9Fq2/z639q+7XXluz20zf91bd25pb53pL67e5tubOOs/kXkt3zf5zpj/mW4voPa37duZe93u97unRUv987TzX0/2f/dZ6RE/1dfeq3/feZ9vLzKyjpXvmN36r9y/Hevqu/Yh7//EUx/mvBgCqEQAAoCABAAAKEgAAoCABAAAKEgAAoCABAAAKEgAAoCABAAAKEgAAoCABAAAKEgAAoCABAAAKEgAAoCABAAAKEgAAoCABAAAKEgAAoCABAAAKEgAAoCABAAAKEgAAoCABAAAKEgAAoCABAAAKEgAAoCABAAAKEgAAoCABAAAKEgAAoCABAAAKEgAAoCABAAAKEgAAoCABAAAKEgAAoCABAAAKEgAAoCABAAAKEgAAoCABAAAKEgAAoCABAAAKEgAAoCABAAAKEgAAoCABAAAKEgAAoCABAAAKEgAAoCABAAAKEgAAoCABAAAKEgAAoCABAAAKEgAAoCABAAAKEgAAoCABAAAKEgAAoCABAAAKEgAAoCABAAAK+gFQq+8ozaIrHgAAAABJRU5ErkJggg==\"></div><div style=\"vertical-align: middle; max-width: 514px; display: flex; justify-content: space-between;\"><div style=\"float: left;\"><div title=\"#e2d9e2ff\" style=\"display: inline-block; width: 1em; height: 1em; margin: 0; vertical-align: middle; border: 1px solid #555; background-color: #e2d9e2ff;\"></div> under</div><div style=\"margin: 0 auto; display: inline-block;\">bad <div title=\"#00000000\" style=\"display: inline-block; width: 1em; height: 1em; margin: 0; vertical-align: middle; border: 1px solid #555; background-color: #00000000;\"></div></div><div style=\"float: right;\">over <div title=\"#e2d9e2ff\" style=\"display: inline-block; width: 1em; height: 1em; margin: 0; vertical-align: middle; border: 1px solid #555; background-color: #e2d9e2ff;\"></div></div>"
      ],
      "text/plain": [
       "<matplotlib.colors.ListedColormap at 0x10548e650>"
      ]
     },
     "execution_count": 10,
     "metadata": {},
     "output_type": "execute_result"
    }
   ],
   "source": [
    "mpl._cm_listed.cmaps['twilight']"
   ]
  },
  {
   "cell_type": "code",
   "execution_count": 11,
   "id": "d7a05f30",
   "metadata": {},
   "outputs": [
    {
     "data": {
      "image/png": "[encoded data removed]",
      "text/html": [
       "<div style=\"vertical-align: middle;\"><strong>twilight_shifted</strong> </div><div class=\"cmap\"><img alt=\"twilight_shifted colormap\" title=\"twilight_shifted\" style=\"border: 1px solid #555;\" src=\"data:image/png;base64,iVBORw0KGgoAAAANSUhEUgAAAgAAAABACAYAAABsv8+/AAAAH3RFWHRUaXRsZQB0d2lsaWdodF9zaGlmdGVkIGNvbG9ybWFwuuDiawAAACV0RVh0RGVzY3JpcHRpb24AdHdpbGlnaHRfc2hpZnRlZCBjb2xvcm1hcGcnIksAAAAwdEVYdEF1dGhvcgBNYXRwbG90bGliIHYzLjYuMiwgaHR0cHM6Ly9tYXRwbG90bGliLm9yZ3HOVV8AAAAydEVYdFNvZnR3YXJlAE1hdHBsb3RsaWIgdjMuNi4yLCBodHRwczovL21hdHBsb3RsaWIub3JnX2jKeAAAArhJREFUeJzt1kuS6zYMBdALbSELyTD735iYgSWR+uQzxzlVr0UCoOS2269u/fnHXyNJKklGpVKpUWcllTp+1uwvtcq2rCvJlqrZu2rnvma9siXXfunVNs/U7OXo/WqVfKxTx5k6alfvd01VajvnllpVcu63dV+zv91r575etTzmcp/b1n7+R21e61Vf1tus1Wf/u17LvrZ83qM+5s/aur/WW71ryz0fb+91n+dbd5551/6pXu+386zdPqb5vO01s6xT17nts770U/e5z/1yLsv5tZf7+fP7tPaub2HNb2Ouj2v2klm7vuep1MhhLNdlPcax+62TkbGsM0bGbb3f1+Oc35fa/juzXO+1r/08+9XL/jV3rPd/qr9fV/axvKbjGfu6H7f9OJ599Y7rvM96ZpnZH/PXTB73yDKXx0yue82P4D13610v9eznNrd8fLeZcZs9f/13/zX3L/8+Z/Ks1bXeX737/P48n7U+rtptLsl+/I3fnpEx5/5zfZ4fv/PHs/az/pz72D/nZ/1Ze/QfvdzWs5cko5aZc/37jyBbAIB2BAAAaEgAAICGBAAAaEgAAICGBAAAaEgAAICGBAAAaEgAAICGBAAAaEgAAICGBAAAaEgAAICGBAAAaEgAAICGBAAAaEgAAICGBAAAaEgAAICGBAAAaEgAAICGBAAAaEgAAICGBAAAaEgAAICGBAAAaEgAAICGBAAAaEgAAICGBAAAaEgAAICGBAAAaEgAAICGBAAAaEgAAICGBAAAaEgAAICGBAAAaEgAAICGBAAAaEgAAICGBAAAaEgAAICGBAAAaEgAAICGBAAAaEgAAICGBAAAaEgAAICGBAAAaEgAAICGBAAAaEgAAICGBAAAaEgAAICGBAAAaEgAAICGBAAAaEgAAICGBAAAaEgAAICGBAAAaEgAAICG/gZf+egHTx9s1wAAAABJRU5ErkJggg==\"></div><div style=\"vertical-align: middle; max-width: 514px; display: flex; justify-content: space-between;\"><div style=\"float: left;\"><div title=\"#301437ff\" style=\"display: inline-block; width: 1em; height: 1em; margin: 0; vertical-align: middle; border: 1px solid #555; background-color: #301437ff;\"></div> under</div><div style=\"margin: 0 auto; display: inline-block;\">bad <div title=\"#00000000\" style=\"display: inline-block; width: 1em; height: 1em; margin: 0; vertical-align: middle; border: 1px solid #555; background-color: #00000000;\"></div></div><div style=\"float: right;\">over <div title=\"#2f1436ff\" style=\"display: inline-block; width: 1em; height: 1em; margin: 0; vertical-align: middle; border: 1px solid #555; background-color: #2f1436ff;\"></div></div>"
      ],
      "text/plain": [
       "<matplotlib.colors.ListedColormap at 0x10548e690>"
      ]
     },
     "execution_count": 11,
     "metadata": {},
     "output_type": "execute_result"
    }
   ],
   "source": [
    "mpl._cm_listed.cmaps['twilight_shifted']"
   ]
  },
  {
   "cell_type": "code",
   "execution_count": 14,
   "id": "5aed5a40",
   "metadata": {},
   "outputs": [
    {
     "data": {
      "text/plain": [
       "{'listed': ((0.4980392156862745, 0.788235294117647, 0.4980392156862745),\n",
       "  (0.7450980392156863, 0.6823529411764706, 0.8313725490196079),\n",
       "  (0.9921568627450981, 0.7529411764705882, 0.5254901960784314),\n",
       "  (1.0, 1.0, 0.6),\n",
       "  (0.2196078431372549, 0.4235294117647059, 0.6901960784313725),\n",
       "  (0.9411764705882353, 0.00784313725490196, 0.4980392156862745),\n",
       "  (0.7490196078431373, 0.3568627450980392, 0.09019607843137253),\n",
       "  (0.4, 0.4, 0.4))}"
      ]
     },
     "execution_count": 14,
     "metadata": {},
     "output_type": "execute_result"
    }
   ],
   "source": [
    "mpl._cm.datad['Accent']"
   ]
  },
  {
   "cell_type": "code",
   "execution_count": 18,
   "id": "de26f0be",
   "metadata": {},
   "outputs": [
    {
     "data": {
      "image/png": "[encoded data removed]",
      "text/html": [
       "<div style=\"vertical-align: middle;\"><strong>twilight</strong> </div><div class=\"cmap\"><img alt=\"twilight colormap\" title=\"twilight\" style=\"border: 1px solid #555;\" src=\"data:image/png;base64,iVBORw0KGgoAAAANSUhEUgAAAgAAAABACAYAAABsv8+/AAAAF3RFWHRUaXRsZQB0d2lsaWdodCBjb2xvcm1hcEflX9wAAAAddEVYdERlc2NyaXB0aW9uAHR3aWxpZ2h0IGNvbG9ybWFwbpu49QAAADB0RVh0QXV0aG9yAE1hdHBsb3RsaWIgdjMuNi4yLCBodHRwczovL21hdHBsb3RsaWIub3Jncc5VXwAAADJ0RVh0U29mdHdhcmUATWF0cGxvdGxpYiB2My42LjIsIGh0dHBzOi8vbWF0cGxvdGxpYi5vcmdfaMp4AAACuUlEQVR4nO3WQXLbMAwFUJD3P2C37UHELERRoKzW3eO9mUxAEKQdx5r57fevPyOm0SIiRlyNketx1qs37nrbm/3j2h9n73jujbHVx7znXs9zj/Of63Ru3ZfmHv37NfK5/cx9b6z3f77mZ2+8zH3tz3viZS/SmXj255vdZ+97IvVz77pz1esP2ee32eMv/Ws+f3D5jiPPja2/rb/0xueHfs/e/5w09/ggj7SXZ4/5AeSz41j1OI5H7zi/5XM91tlj7T3rMY6ImPNxrs8n5KrTXsz7Yp7f9uaZSPsj98Z86o5Uz34bW2890S3vR0Q7P9M2y4iW6tmPluo0M6v336lu7WO/R4vW9nP9H+s839edL3Pf6hbzfMz+9R4jzcX9Wu3ea+0x97Y3f/rWG/v+y3y0z97/zpz9Fq2/z639q+7XXluz20zf91bd25pb53pL67e5tubOOs/kXkt3zf5zpj/mW4voPa37duZe93u97unRUv987TzX0/2f/dZ6RE/1dfeq3/feZ9vLzKyjpXvmN36r9y/Hevqu/Yh7//EUx/mvBgCqEQAAoCABAAAKEgAAoCABAAAKEgAAoCABAAAKEgAAoCABAAAKEgAAoCABAAAKEgAAoCABAAAKEgAAoCABAAAKEgAAoCABAAAKEgAAoCABAAAKEgAAoCABAAAKEgAAoCABAAAKEgAAoCABAAAKEgAAoCABAAAKEgAAoCABAAAKEgAAoCABAAAKEgAAoCABAAAKEgAAoCABAAAKEgAAoCABAAAKEgAAoCABAAAKEgAAoCABAAAKEgAAoCABAAAKEgAAoCABAAAKEgAAoCABAAAKEgAAoCABAAAKEgAAoCABAAAKEgAAoCABAAAKEgAAoCABAAAKEgAAoCABAAAKEgAAoCABAAAKEgAAoCABAAAKEgAAoCABAAAK+gFQq+8ozaIrHgAAAABJRU5ErkJggg==\"></div><div style=\"vertical-align: middle; max-width: 514px; display: flex; justify-content: space-between;\"><div style=\"float: left;\"><div title=\"#e2d9e2ff\" style=\"display: inline-block; width: 1em; height: 1em; margin: 0; vertical-align: middle; border: 1px solid #555; background-color: #e2d9e2ff;\"></div> under</div><div style=\"margin: 0 auto; display: inline-block;\">bad <div title=\"#00000000\" style=\"display: inline-block; width: 1em; height: 1em; margin: 0; vertical-align: middle; border: 1px solid #555; background-color: #00000000;\"></div></div><div style=\"float: right;\">over <div title=\"#e2d9e2ff\" style=\"display: inline-block; width: 1em; height: 1em; margin: 0; vertical-align: middle; border: 1px solid #555; background-color: #e2d9e2ff;\"></div></div>"
      ],
      "text/plain": [
       "<matplotlib.colors.ListedColormap at 0x10fc23d90>"
      ]
     },
     "execution_count": 18,
     "metadata": {},
     "output_type": "execute_result"
    }
   ],
   "source": [
    "plt.colormaps['twilight']"
   ]
  },
  {
   "cell_type": "code",
   "execution_count": 19,
   "id": "b34959c6",
   "metadata": {},
   "outputs": [
    {
     "data": {
      "image/png": "[encoded data removed]",
      "text/html": [
       "<div style=\"vertical-align: middle;\"><strong>twilight</strong> </div><div class=\"cmap\"><img alt=\"twilight colormap\" title=\"twilight\" style=\"border: 1px solid #555;\" src=\"data:image/png;base64,iVBORw0KGgoAAAANSUhEUgAAAgAAAABACAYAAABsv8+/AAAAF3RFWHRUaXRsZQB0d2lsaWdodCBjb2xvcm1hcEflX9wAAAAddEVYdERlc2NyaXB0aW9uAHR3aWxpZ2h0IGNvbG9ybWFwbpu49QAAADB0RVh0QXV0aG9yAE1hdHBsb3RsaWIgdjMuNi4yLCBodHRwczovL21hdHBsb3RsaWIub3Jncc5VXwAAADJ0RVh0U29mdHdhcmUATWF0cGxvdGxpYiB2My42LjIsIGh0dHBzOi8vbWF0cGxvdGxpYi5vcmdfaMp4AAACuUlEQVR4nO3WQXLbMAwFUJD3P2C37UHELERRoKzW3eO9mUxAEKQdx5r57fevPyOm0SIiRlyNketx1qs37nrbm/3j2h9n73jujbHVx7znXs9zj/Of63Ru3ZfmHv37NfK5/cx9b6z3f77mZ2+8zH3tz3viZS/SmXj255vdZ+97IvVz77pz1esP2ee32eMv/Ws+f3D5jiPPja2/rb/0xueHfs/e/5w09/ggj7SXZ4/5AeSz41j1OI5H7zi/5XM91tlj7T3rMY6ImPNxrs8n5KrTXsz7Yp7f9uaZSPsj98Z86o5Uz34bW2890S3vR0Q7P9M2y4iW6tmPluo0M6v336lu7WO/R4vW9nP9H+s839edL3Pf6hbzfMz+9R4jzcX9Wu3ea+0x97Y3f/rWG/v+y3y0z97/zpz9Fq2/z639q+7XXluz20zf91bd25pb53pL67e5tubOOs/kXkt3zf5zpj/mW4voPa37duZe93u97unRUv987TzX0/2f/dZ6RE/1dfeq3/feZ9vLzKyjpXvmN36r9y/Hevqu/Yh7//EUx/mvBgCqEQAAoCABAAAKEgAAoCABAAAKEgAAoCABAAAKEgAAoCABAAAKEgAAoCABAAAKEgAAoCABAAAKEgAAoCABAAAKEgAAoCABAAAKEgAAoCABAAAKEgAAoCABAAAKEgAAoCABAAAKEgAAoCABAAAKEgAAoCABAAAKEgAAoCABAAAKEgAAoCABAAAKEgAAoCABAAAKEgAAoCABAAAKEgAAoCABAAAKEgAAoCABAAAKEgAAoCABAAAKEgAAoCABAAAKEgAAoCABAAAKEgAAoCABAAAKEgAAoCABAAAKEgAAoCABAAAKEgAAoCABAAAKEgAAoCABAAAKEgAAoCABAAAKEgAAoCABAAAKEgAAoCABAAAKEgAAoCABAAAK+gFQq+8ozaIrHgAAAABJRU5ErkJggg==\"></div><div style=\"vertical-align: middle; max-width: 514px; display: flex; justify-content: space-between;\"><div style=\"float: left;\"><div title=\"#e2d9e2ff\" style=\"display: inline-block; width: 1em; height: 1em; margin: 0; vertical-align: middle; border: 1px solid #555; background-color: #e2d9e2ff;\"></div> under</div><div style=\"margin: 0 auto; display: inline-block;\">bad <div title=\"#00000000\" style=\"display: inline-block; width: 1em; height: 1em; margin: 0; vertical-align: middle; border: 1px solid #555; background-color: #00000000;\"></div></div><div style=\"float: right;\">over <div title=\"#e2d9e2ff\" style=\"display: inline-block; width: 1em; height: 1em; margin: 0; vertical-align: middle; border: 1px solid #555; background-color: #e2d9e2ff;\"></div></div>"
      ],
      "text/plain": [
       "<matplotlib.colors.ListedColormap at 0x11c0c7c90>"
      ]
     },
     "execution_count": 19,
     "metadata": {},
     "output_type": "execute_result"
    }
   ],
   "source": [
    "mpl.colormaps['twilight']"
   ]
  },
  {
   "cell_type": "code",
   "execution_count": 30,
   "id": "23568c48",
   "metadata": {},
   "outputs": [
    {
     "name": "stdout",
     "output_type": "stream",
     "text": [
      "Aquatic1          qualitative     5\n",
      "Aquatic2          qualitative     5\n",
      "Aquatic3          qualitative     5\n",
      "Cavalcanti        qualitative     5\n",
      "Chevalier         qualitative     4\n",
      "Darjeeling1       qualitative     4\n",
      "Darjeeling2       qualitative     5\n",
      "Darjeeling3       qualitative     5\n",
      "Darjeeling4       qualitative     5\n",
      "FantasticFox1     qualitative     5\n",
      "FantasticFox2     qualitative     5\n",
      "GrandBudapest1    qualitative     4\n",
      "GrandBudapest2    qualitative     4\n",
      "GrandBudapest3    qualitative     6\n",
      "GrandBudapest4    qualitative     5\n",
      "GrandBudapest5    qualitative     5\n",
      "IsleOfDogs1       qualitative     5\n",
      "IsleOfDogs2       qualitative     6\n",
      "IsleOfDogs3       qualitative     4\n",
      "Margot1           qualitative     5\n",
      "Margot2           qualitative     4\n",
      "Margot3           qualitative     4\n",
      "Mendl             qualitative     4\n",
      "Moonrise1         qualitative     5\n",
      "Moonrise2         qualitative     4\n",
      "Moonrise3         qualitative     4\n",
      "Moonrise4         qualitative     5\n",
      "Moonrise5         qualitative     6\n",
      "Moonrise6         qualitative     5\n",
      "Moonrise7         qualitative     5\n",
      "Royal1            qualitative     4\n",
      "Royal2            qualitative     5\n",
      "Royal3            qualitative     5\n",
      "Zissou            qualitative     5\n"
     ]
    }
   ],
   "source": [
    "pal.wesanderson.print_maps()"
   ]
  },
  {
   "cell_type": "code",
   "execution_count": 38,
   "id": "e9ee9ce0",
   "metadata": {},
   "outputs": [
    {
     "data": {
      "image/png": "[encoded data removed]",
      "text/html": [
       "<div style=\"vertical-align: middle;\"><strong>Chevalier</strong> </div><div class=\"cmap\"><img alt=\"Chevalier colormap\" title=\"Chevalier\" style=\"border: 1px solid #555;\" src=\"data:image/png;base64,iVBORw0KGgoAAAANSUhEUgAAAgAAAABACAYAAABsv8+/AAAAGHRFWHRUaXRsZQBDaGV2YWxpZXIgY29sb3JtYXCa27zQAAAAHnRFWHREZXNjcmlwdGlvbgBDaGV2YWxpZXIgY29sb3JtYXDYQFpbAAAAMHRFWHRBdXRob3IATWF0cGxvdGxpYiB2My42LjIsIGh0dHBzOi8vbWF0cGxvdGxpYi5vcmdxzlVfAAAAMnRFWHRTb2Z0d2FyZQBNYXRwbG90bGliIHYzLjYuMiwgaHR0cHM6Ly9tYXRwbG90bGliLm9yZ19oyngAAAHkSURBVHic7dbLdYMwFEXRJ1xTKkgH6b8XMggsx2Dx9ezuPbGlJcmCZHDa18/3WFU1tKr/n4/hdTxM40fbmT+8rm3/Xmf+6Lr1Pdqx+y5/rze/e492774791ivazfve/Bei7/f9fvuzK/Gf1/Gmj+nBYtxb77a0Nl/bP65fzH/sf2d+XbuOe/vX8y3c+/pY/vbyffUfd9391/8PxvHmr5M67bHY3ddvY7n9TvnLeefx22v656/Wvd63vXnrc115593Hh57L/33X2/XXX/e7fOOP2+9nT97n9lQAEAcAQAAgQQAAAQSAAAQSAAAQCABAACBBAAABBIAABBIAABAIAEAAIEEAAAEEgAAEEgAAEAgAQAAgQQAAAQSAAAQSAAAQCABAACBBAAABBIAABBIAABAIAEAAIEEAAAEEgAAEEgAAEAgAQAAgQQAAAQSAAAQSAAAQCABAACBBAAABBIAABBIAABAIAEAAIEEAAAEEgAAEEgAAEAgAQAAgQQAAAQSAAAQSAAAQCABAACBBAAABBIAABBIAABAIAEAAIEEAAAEEgAAEEgAAEAgAQAAgQQAAAQSAAAQSAAAQCABAACBBAAABBIAABBIAABAIAEAAIEEAAAEEgAAEEgAAEAgAQAAgQQAAAT6BXgBxWVBYuM4AAAAAElFTkSuQmCC\"></div><div style=\"vertical-align: middle; max-width: 514px; display: flex; justify-content: space-between;\"><div style=\"float: left;\"><div title=\"#355243ff\" style=\"display: inline-block; width: 1em; height: 1em; margin: 0; vertical-align: middle; border: 1px solid #555; background-color: #355243ff;\"></div> under</div><div style=\"margin: 0 auto; display: inline-block;\">bad <div title=\"#00000000\" style=\"display: inline-block; width: 1em; height: 1em; margin: 0; vertical-align: middle; border: 1px solid #555; background-color: #00000000;\"></div></div><div style=\"float: right;\">over <div title=\"#bba289ff\" style=\"display: inline-block; width: 1em; height: 1em; margin: 0; vertical-align: middle; border: 1px solid #555; background-color: #bba289ff;\"></div></div>"
      ],
      "text/plain": [
       "<matplotlib.colors.LinearSegmentedColormap at 0x11c0c1510>"
      ]
     },
     "execution_count": 38,
     "metadata": {},
     "output_type": "execute_result"
    }
   ],
   "source": [
    "pal.wesanderson.get_map('Chevalier').mpl_colormap"
   ]
  },
  {
   "cell_type": "code",
   "execution_count": 42,
   "id": "58196ce6",
   "metadata": {},
   "outputs": [
    {
     "data": {
      "text/html": [
       "<style type=\"text/css\">table.blockgrid {border: none;} .blockgrid tr {border: none;} .blockgrid td {padding: 0px;} #blocks477b142c-95a2-48a2-9a03-3452c75f96ac td {border: 1px solid white;}</style><table id=\"blocks477b142c-95a2-48a2-9a03-3452c75f96ac\" class=\"blockgrid\"><tbody><tr><td title=\"Index: [0, 0]&#10;Color: (53, 82, 67)\" style=\"width: 100px; height: 100px;background-color: rgb(53, 82, 67);\"></td><td title=\"Index: [0, 1]&#10;Color: (254, 202, 73)\" style=\"width: 100px; height: 100px;background-color: rgb(254, 202, 73);\"></td><td title=\"Index: [0, 2]&#10;Color: (201, 213, 213)\" style=\"width: 100px; height: 100px;background-color: rgb(201, 213, 213);\"></td><td title=\"Index: [0, 3]&#10;Color: (187, 162, 137)\" style=\"width: 100px; height: 100px;background-color: rgb(187, 162, 137);\"></td></tr></tbody></table>"
      ],
      "text/plain": [
       "<IPython.core.display.HTML object>"
      ]
     },
     "metadata": {},
     "output_type": "display_data"
    }
   ],
   "source": [
    "pal.wesanderson.get_map('Chevalier').show_as_blocks()"
   ]
  },
  {
   "cell_type": "code",
   "execution_count": 43,
   "id": "e369c20b",
   "metadata": {},
   "outputs": [
    {
     "data": {
      "text/plain": [
       "'qualitative'"
      ]
     },
     "execution_count": 43,
     "metadata": {},
     "output_type": "execute_result"
    }
   ],
   "source": [
    "pal.wesanderson.get_map('Chevalier').type"
   ]
  },
  {
   "cell_type": "code",
   "execution_count": 44,
   "id": "c6be8102",
   "metadata": {},
   "outputs": [
    {
     "data": {
      "text/plain": [
       "4"
      ]
     },
     "execution_count": 44,
     "metadata": {},
     "output_type": "execute_result"
    }
   ],
   "source": [
    "pal.wesanderson.get_map('Chevalier').number"
   ]
  },
  {
   "cell_type": "code",
   "execution_count": 45,
   "id": "2931c373",
   "metadata": {},
   "outputs": [
    {
     "data": {
      "text/plain": [
       "[(53, 82, 67), (254, 202, 73), (201, 213, 213), (187, 162, 137)]"
      ]
     },
     "execution_count": 45,
     "metadata": {},
     "output_type": "execute_result"
    }
   ],
   "source": [
    "pal.wesanderson.get_map('Chevalier').colors"
   ]
  },
  {
   "cell_type": "code",
   "execution_count": 46,
   "id": "3c296777",
   "metadata": {},
   "outputs": [
    {
     "data": {
      "text/plain": [
       "[(0.20784313725490197, 0.3215686274509804, 0.2627450980392157),\n",
       " (0.996078431372549, 0.792156862745098, 0.28627450980392155),\n",
       " (0.788235294117647, 0.8352941176470589, 0.8352941176470589),\n",
       " (0.7333333333333333, 0.6352941176470588, 0.5372549019607843)]"
      ]
     },
     "execution_count": 46,
     "metadata": {},
     "output_type": "execute_result"
    }
   ],
   "source": [
    "pal.wesanderson.get_map('Chevalier').mpl_colors"
   ]
  },
  {
   "cell_type": "code",
   "execution_count": 48,
   "id": "872838f8",
   "metadata": {},
   "outputs": [
    {
     "data": {
      "image/png": "[encoded data removed]",
      "text/plain": [
       "<IPython.core.display.Image object>"
      ]
     },
     "metadata": {},
     "output_type": "display_data"
    }
   ],
   "source": [
    "pal.wesanderson.get_map('Chevalier').show_discrete_image()"
   ]
  },
  {
   "cell_type": "code",
   "execution_count": 49,
   "id": "1ad55ca6",
   "metadata": {},
   "outputs": [
    {
     "data": {
      "image/png": "[encoded data removed]",
      "text/plain": [
       "<IPython.core.display.Image object>"
      ]
     },
     "metadata": {},
     "output_type": "display_data"
    }
   ],
   "source": [
    "pal.wesanderson.get_map('Chevalier').show_continuous_image()"
   ]
  },
  {
   "cell_type": "code",
   "execution_count": 51,
   "id": "e9f658e6",
   "metadata": {},
   "outputs": [
    {
     "name": "stdout",
     "output_type": "stream",
     "text": [
      "ArmyRose_2    diverging       2\n",
      "ArmyRose_3    diverging       3\n",
      "ArmyRose_4    diverging       4\n",
      "ArmyRose_5    diverging       5\n",
      "ArmyRose_6    diverging       6\n",
      "ArmyRose_7    diverging       7\n",
      "Earth_2       diverging       2\n",
      "Earth_3       diverging       3\n",
      "Earth_4       diverging       4\n",
      "Earth_5       diverging       5\n",
      "Earth_6       diverging       6\n",
      "Earth_7       diverging       7\n",
      "Fall_2        diverging       2\n",
      "Fall_3        diverging       3\n",
      "Fall_4        diverging       4\n",
      "Fall_5        diverging       5\n",
      "Fall_6        diverging       6\n",
      "Fall_7        diverging       7\n",
      "Geyser_2      diverging       2\n",
      "Geyser_3      diverging       3\n",
      "Geyser_4      diverging       4\n",
      "Geyser_5      diverging       5\n",
      "Geyser_6      diverging       6\n",
      "Geyser_7      diverging       7\n",
      "TealRose_2    diverging       2\n",
      "TealRose_3    diverging       3\n",
      "TealRose_4    diverging       4\n",
      "TealRose_5    diverging       5\n",
      "TealRose_6    diverging       6\n",
      "TealRose_7    diverging       7\n",
      "Temps_2       diverging       2\n",
      "Temps_3       diverging       3\n",
      "Temps_4       diverging       4\n",
      "Temps_5       diverging       5\n",
      "Temps_6       diverging       6\n",
      "Temps_7       diverging       7\n",
      "Tropic_2      diverging       2\n",
      "Tropic_3      diverging       3\n",
      "Tropic_4      diverging       4\n",
      "Tropic_5      diverging       5\n",
      "Tropic_6      diverging       6\n",
      "Tropic_7      diverging       7\n"
     ]
    }
   ],
   "source": [
    "pal.cartocolors.diverging.print_maps()"
   ]
  },
  {
   "cell_type": "code",
   "execution_count": 56,
   "id": "ea099d29",
   "metadata": {},
   "outputs": [
    {
     "data": {
      "text/plain": [
       "<palettable.wesanderson.wesanderson.WesAndersonMap at 0x11c581dd0>"
      ]
     },
     "execution_count": 56,
     "metadata": {},
     "output_type": "execute_result"
    }
   ],
   "source": [
    "pal.wesanderson.Chevalier_4"
   ]
  },
  {
   "cell_type": "code",
   "execution_count": 53,
   "id": "d9b2ef8b",
   "metadata": {},
   "outputs": [
    {
     "data": {
      "text/plain": [
       "<palettable.cartocolors.cartocolorspalette.CartoColorsMap at 0x11c3e9d90>"
      ]
     },
     "execution_count": 53,
     "metadata": {},
     "output_type": "execute_result"
    }
   ],
   "source": [
    "pal.cartocolors.diverging.ArmyRose_2"
   ]
  },
  {
   "cell_type": "code",
   "execution_count": 57,
   "id": "61a6e0da",
   "metadata": {},
   "outputs": [
    {
     "data": {
      "text/plain": [
       "{'armyrose': 'ArmyRose',\n",
       " 'fall': 'Fall',\n",
       " 'geyser': 'Geyser',\n",
       " 'temps': 'Temps',\n",
       " 'tealrose': 'TealRose',\n",
       " 'tropic': 'Tropic',\n",
       " 'earth': 'Earth'}"
      ]
     },
     "execution_count": 57,
     "metadata": {},
     "output_type": "execute_result"
    }
   ],
   "source": [
    "pal.cartocolors.diverging._NAME_MAP"
   ]
  },
  {
   "cell_type": "code",
   "execution_count": 58,
   "id": "8ba7f760",
   "metadata": {},
   "outputs": [
    {
     "data": {
      "text/plain": [
       "[('ArmyRose', 2),\n",
       " ('ArmyRose', 3),\n",
       " ('ArmyRose', 4),\n",
       " ('ArmyRose', 5),\n",
       " ('ArmyRose', 6),\n",
       " ('ArmyRose', 7),\n",
       " ('Earth', 2),\n",
       " ('Earth', 3),\n",
       " ('Earth', 4),\n",
       " ('Earth', 5),\n",
       " ('Earth', 6),\n",
       " ('Earth', 7),\n",
       " ('Fall', 2),\n",
       " ('Fall', 3),\n",
       " ('Fall', 4),\n",
       " ('Fall', 5),\n",
       " ('Fall', 6),\n",
       " ('Fall', 7),\n",
       " ('Geyser', 2),\n",
       " ('Geyser', 3),\n",
       " ('Geyser', 4),\n",
       " ('Geyser', 5),\n",
       " ('Geyser', 6),\n",
       " ('Geyser', 7),\n",
       " ('TealRose', 2),\n",
       " ('TealRose', 3),\n",
       " ('TealRose', 4),\n",
       " ('TealRose', 5),\n",
       " ('TealRose', 6),\n",
       " ('TealRose', 7),\n",
       " ('Temps', 2),\n",
       " ('Temps', 3),\n",
       " ('Temps', 4),\n",
       " ('Temps', 5),\n",
       " ('Temps', 6),\n",
       " ('Temps', 7),\n",
       " ('Tropic', 2),\n",
       " ('Tropic', 3),\n",
       " ('Tropic', 4),\n",
       " ('Tropic', 5),\n",
       " ('Tropic', 6),\n",
       " ('Tropic', 7)]"
      ]
     },
     "execution_count": 58,
     "metadata": {},
     "output_type": "execute_result"
    }
   ],
   "source": [
    "pal.cartocolors.diverging._NAMES_AND_LENGTHS"
   ]
  },
  {
   "cell_type": "code",
   "execution_count": 59,
   "id": "39f71048",
   "metadata": {},
   "outputs": [
    {
     "data": {
      "image/png": "[encoded data removed]",
      "text/html": [
       "<div style=\"vertical-align: middle;\"><strong>ArmyRose_2</strong> </div><div class=\"cmap\"><img alt=\"ArmyRose_2 colormap\" title=\"ArmyRose_2\" style=\"border: 1px solid #555;\" src=\"data:image/png;base64,iVBORw0KGgoAAAANSUhEUgAAAgAAAABACAYAAABsv8+/AAAAGXRFWHRUaXRsZQBBcm15Um9zZV8yIGNvbG9ybWFwqJMRoQAAAB90RVh0RGVzY3JpcHRpb24AQXJteVJvc2VfMiBjb2xvcm1hcNK70O8AAAAwdEVYdEF1dGhvcgBNYXRwbG90bGliIHYzLjYuMiwgaHR0cHM6Ly9tYXRwbG90bGliLm9yZ3HOVV8AAAAydEVYdFNvZnR3YXJlAE1hdHBsb3RsaWIgdjMuNi4yLCBodHRwczovL21hdHBsb3RsaWIub3JnX2jKeAAAAb1JREFUeJzt1kFOg1AUQFHqmtycUzeOA2OTAr+BFibecwamPpvyfSnk3r6+P+dpmqbp9+fdbePVrvn8OHl813h+W07mN8+xnK/+v/XJds1f3NNwD/PqD6+d78W9D+f3/e87x969v32+s74Xq895fo69ez98juVvB/c+nB/c0969Hz7Hcn5w72fdP1c9t4bfl7O+Fzvvn6ueW6P5Vc+t4fU2PnFzftL9c9Vza3i9jVeb85Pun7/rf6zeDwD8ewIAAIIEAAAECQAACBIAABAkAAAgSAAAQJAAAIAgAQAAQQIAAIIEAAAECQAACBIAABAkAAAgSAAAQJAAAIAgAQAAQQIAAIIEAAAECQAACBIAABAkAAAgSAAAQJAAAIAgAQAAQQIAAIIEAAAECQAACBIAABAkAAAgSAAAQJAAAIAgAQAAQQIAAIIEAAAECQAACBIAABAkAAAgSAAAQJAAAIAgAQAAQQIAAIIEAAAECQAACBIAABAkAAAgSAAAQJAAAIAgAQAAQQIAAIIEAAAECQAACBIAABAkAAAgSAAAQJAAAIAgAQAAQQIAAIIEAAAECQAACBIAABAkAAAgSAAAQNAPc4weOkZJ7n8AAAAASUVORK5CYII=\"></div><div style=\"vertical-align: middle; max-width: 514px; display: flex; justify-content: space-between;\"><div style=\"float: left;\"><div title=\"#798234ff\" style=\"display: inline-block; width: 1em; height: 1em; margin: 0; vertical-align: middle; border: 1px solid #555; background-color: #798234ff;\"></div> under</div><div style=\"margin: 0 auto; display: inline-block;\">bad <div title=\"#00000000\" style=\"display: inline-block; width: 1em; height: 1em; margin: 0; vertical-align: middle; border: 1px solid #555; background-color: #00000000;\"></div></div><div style=\"float: right;\">over <div title=\"#d46780ff\" style=\"display: inline-block; width: 1em; height: 1em; margin: 0; vertical-align: middle; border: 1px solid #555; background-color: #d46780ff;\"></div></div>"
      ],
      "text/plain": [
       "<matplotlib.colors.LinearSegmentedColormap at 0x11cd0e450>"
      ]
     },
     "execution_count": 59,
     "metadata": {},
     "output_type": "execute_result"
    }
   ],
   "source": [
    "pal.cartocolors.diverging.ArmyRose_2.mpl_colormap"
   ]
  },
  {
   "cell_type": "code",
   "execution_count": 60,
   "id": "9dc11bc5",
   "metadata": {},
   "outputs": [
    {
     "data": {
      "image/png": "[encoded data removed]",
      "text/html": [
       "<div style=\"vertical-align: middle;\"><strong>ArmyRose_3</strong> </div><div class=\"cmap\"><img alt=\"ArmyRose_3 colormap\" title=\"ArmyRose_3\" style=\"border: 1px solid #555;\" src=\"data:image/png;base64,iVBORw0KGgoAAAANSUhEUgAAAgAAAABACAYAAABsv8+/AAAAGXRFWHRUaXRsZQBBcm15Um9zZV8zIGNvbG9ybWFwR1F6nwAAAB90RVh0RGVzY3JpcHRpb24AQXJteVJvc2VfMyBjb2xvcm1hcD15u9EAAAAwdEVYdEF1dGhvcgBNYXRwbG90bGliIHYzLjYuMiwgaHR0cHM6Ly9tYXRwbG90bGliLm9yZ3HOVV8AAAAydEVYdFNvZnR3YXJlAE1hdHBsb3RsaWIgdjMuNi4yLCBodHRwczovL21hdHBsb3RsaWIub3JnX2jKeAAAAbxJREFUeJzt1l1Og0AYQNGha3Jzvrrw4kvbRHQsNP7mnvNCCiN8TBtzl+eXp3WMMZaxjDHGWJbr8bT5PDu/d92Df393rn3POX3XnOOr9+mxOU+H9+135jy+b7Pv76d+d9/8nKPvOZ3rsTlv1vVyvBzO6+b8ejm8XXc7P12/vf/m+vnj6+u79ffmmtzn3frrx9k8k/c7OM/XzzW5z+F92vv9fT7P/rnuPedv7tP+uTbv909+59frm/8CAECBAACAIAEAAEECAACCBAAABAkAAAgSAAAQJAAAIEgAAECQAACAIAEAAEECAACCBAAABAkAAAgSAAAQJAAAIEgAAECQAACAIAEAAEECAACCBAAABAkAAAgSAAAQJAAAIEgAAECQAACAIAEAAEECAACCBAAABAkAAAgSAAAQJAAAIEgAAECQAACAIAEAAEECAACCBAAABAkAAAgSAAAQJAAAIEgAAECQAACAIAEAAEECAACCBAAABAkAAAgSAAAQJAAAIEgAAECQAACAIAEAAEECAACCBAAABAkAAAgSAAAQJAAAIEgAAECQAACAIAEAAEECAACCBAAABAkAAAgSAAAQ9AqA7A1JuKTJqQAAAABJRU5ErkJggg==\"></div><div style=\"vertical-align: middle; max-width: 514px; display: flex; justify-content: space-between;\"><div style=\"float: left;\"><div title=\"#798234ff\" style=\"display: inline-block; width: 1em; height: 1em; margin: 0; vertical-align: middle; border: 1px solid #555; background-color: #798234ff;\"></div> under</div><div style=\"margin: 0 auto; display: inline-block;\">bad <div title=\"#00000000\" style=\"display: inline-block; width: 1em; height: 1em; margin: 0; vertical-align: middle; border: 1px solid #555; background-color: #00000000;\"></div></div><div style=\"float: right;\">over <div title=\"#d46780ff\" style=\"display: inline-block; width: 1em; height: 1em; margin: 0; vertical-align: middle; border: 1px solid #555; background-color: #d46780ff;\"></div></div>"
      ],
      "text/plain": [
       "<matplotlib.colors.LinearSegmentedColormap at 0x12b006650>"
      ]
     },
     "execution_count": 60,
     "metadata": {},
     "output_type": "execute_result"
    }
   ],
   "source": [
    "pal.cartocolors.diverging.ArmyRose_3.mpl_colormap"
   ]
  },
  {
   "cell_type": "code",
   "execution_count": 61,
   "id": "7c998ad0",
   "metadata": {},
   "outputs": [
    {
     "data": {
      "image/png": "[encoded data removed]",
      "text/html": [
       "<div style=\"vertical-align: middle;\"><strong>ArmyRose_7</strong> </div><div class=\"cmap\"><img alt=\"ArmyRose_7 colormap\" title=\"ArmyRose_7\" style=\"border: 1px solid #555;\" src=\"data:image/png;base64,iVBORw0KGgoAAAANSUhEUgAAAgAAAABACAYAAABsv8+/AAAAGXRFWHRUaXRsZQBBcm15Um9zZV83IGNvbG9ybWFwTrra5QAAAB90RVh0RGVzY3JpcHRpb24AQXJteVJvc2VfNyBjb2xvcm1hcDSSG6sAAAAwdEVYdEF1dGhvcgBNYXRwbG90bGliIHYzLjYuMiwgaHR0cHM6Ly9tYXRwbG90bGliLm9yZ3HOVV8AAAAydEVYdFNvZnR3YXJlAE1hdHBsb3RsaWIgdjMuNi4yLCBodHRwczovL21hdHBsb3RsaWIub3JnX2jKeAAAAcZJREFUeJzt1ktOwzAAQEG3Z+JybDk4YQEF1SXERZTNm9lUjuVPsqje6fnlaRtjjHE6ffw86vcc3X9eN43Hz/Pno/WX8Vg87879ls//5futjs+Pes871+3f43/vcz78vmv7fNre/wbG62W4XT//nN+uhvP89noZX89v0/qv5/P5a/O39xvT+Tv77M5fv//N89Xvs3OP1X1W77FN83vr9+45r//t/Vb3//P7zd97d35ef3Cvh+977/7f73t078PzP0z/AgBAgQAAgCABAABBAgAAggQAAAQJAAAIEgAAECQAACBIAABAkAAAgCABAABBAgAAggQAAAQJAAAIEgAAECQAACBIAABAkAAAgCABAABBAgAAggQAAAQJAAAIEgAAECQAACBIAABAkAAAgCABAABBAgAAggQAAAQJAAAIEgAAECQAACBIAABAkAAAgCABAABBAgAAggQAAAQJAAAIEgAAECQAACBIAABAkAAAgCABAABBAgAAggQAAAQJAAAIEgAAECQAACBIAABAkAAAgCABAABBAgAAggQAAAQJAAAIEgAAECQAACBIAABAkAAAgCABAABBAgAAggQAAAQJAAAIEgAAEPQG+70MScv2+r8AAAAASUVORK5CYII=\"></div><div style=\"vertical-align: middle; max-width: 514px; display: flex; justify-content: space-between;\"><div style=\"float: left;\"><div title=\"#798234ff\" style=\"display: inline-block; width: 1em; height: 1em; margin: 0; vertical-align: middle; border: 1px solid #555; background-color: #798234ff;\"></div> under</div><div style=\"margin: 0 auto; display: inline-block;\">bad <div title=\"#00000000\" style=\"display: inline-block; width: 1em; height: 1em; margin: 0; vertical-align: middle; border: 1px solid #555; background-color: #00000000;\"></div></div><div style=\"float: right;\">over <div title=\"#d46780ff\" style=\"display: inline-block; width: 1em; height: 1em; margin: 0; vertical-align: middle; border: 1px solid #555; background-color: #d46780ff;\"></div></div>"
      ],
      "text/plain": [
       "<matplotlib.colors.LinearSegmentedColormap at 0x11ffd4e10>"
      ]
     },
     "execution_count": 61,
     "metadata": {},
     "output_type": "execute_result"
    }
   ],
   "source": [
    "pal.cartocolors.diverging.ArmyRose_7.mpl_colormap"
   ]
  },
  {
   "cell_type": "code",
   "execution_count": 63,
   "id": "e78d0661",
   "metadata": {},
   "outputs": [
    {
     "data": {
      "image/png": "[encoded data removed]",
      "text/plain": [
       "<IPython.core.display.Image object>"
      ]
     },
     "metadata": {},
     "output_type": "display_data"
    }
   ],
   "source": [
    "pal.cartocolors.diverging.ArmyRose_7.show_discrete_image()"
   ]
  },
  {
   "cell_type": "code",
   "execution_count": 64,
   "id": "7059d134",
   "metadata": {},
   "outputs": [
    {
     "data": {
      "text/plain": [
       "[('BluGrn', 2),\n",
       " ('BluGrn', 3),\n",
       " ('BluGrn', 4),\n",
       " ('BluGrn', 5),\n",
       " ('BluGrn', 6),\n",
       " ('BluGrn', 7),\n",
       " ('BluYl', 2),\n",
       " ('BluYl', 3),\n",
       " ('BluYl', 4),\n",
       " ('BluYl', 5),\n",
       " ('BluYl', 6),\n",
       " ('BluYl', 7),\n",
       " ('BrwnYl', 2),\n",
       " ('BrwnYl', 3),\n",
       " ('BrwnYl', 4),\n",
       " ('BrwnYl', 5),\n",
       " ('BrwnYl', 6),\n",
       " ('BrwnYl', 7),\n",
       " ('Burg', 2),\n",
       " ('Burg', 3),\n",
       " ('Burg', 4),\n",
       " ('Burg', 5),\n",
       " ('Burg', 6),\n",
       " ('Burg', 7),\n",
       " ('BurgYl', 2),\n",
       " ('BurgYl', 3),\n",
       " ('BurgYl', 4),\n",
       " ('BurgYl', 5),\n",
       " ('BurgYl', 6),\n",
       " ('BurgYl', 7),\n",
       " ('DarkMint', 2),\n",
       " ('DarkMint', 3),\n",
       " ('DarkMint', 4),\n",
       " ('DarkMint', 5),\n",
       " ('DarkMint', 6),\n",
       " ('DarkMint', 7),\n",
       " ('Emrld', 2),\n",
       " ('Emrld', 3),\n",
       " ('Emrld', 4),\n",
       " ('Emrld', 5),\n",
       " ('Emrld', 6),\n",
       " ('Emrld', 7),\n",
       " ('Magenta', 2),\n",
       " ('Magenta', 3),\n",
       " ('Magenta', 4),\n",
       " ('Magenta', 5),\n",
       " ('Magenta', 6),\n",
       " ('Magenta', 7),\n",
       " ('Mint', 2),\n",
       " ('Mint', 3),\n",
       " ('Mint', 4),\n",
       " ('Mint', 5),\n",
       " ('Mint', 6),\n",
       " ('Mint', 7),\n",
       " ('OrYel', 2),\n",
       " ('OrYel', 3),\n",
       " ('OrYel', 4),\n",
       " ('OrYel', 5),\n",
       " ('OrYel', 6),\n",
       " ('OrYel', 7),\n",
       " ('Peach', 2),\n",
       " ('Peach', 3),\n",
       " ('Peach', 4),\n",
       " ('Peach', 5),\n",
       " ('Peach', 6),\n",
       " ('Peach', 7),\n",
       " ('PinkYl', 2),\n",
       " ('PinkYl', 3),\n",
       " ('PinkYl', 4),\n",
       " ('PinkYl', 5),\n",
       " ('PinkYl', 6),\n",
       " ('PinkYl', 7),\n",
       " ('Purp', 2),\n",
       " ('Purp', 3),\n",
       " ('Purp', 4),\n",
       " ('Purp', 5),\n",
       " ('Purp', 6),\n",
       " ('Purp', 7),\n",
       " ('PurpOr', 2),\n",
       " ('PurpOr', 3),\n",
       " ('PurpOr', 4),\n",
       " ('PurpOr', 5),\n",
       " ('PurpOr', 6),\n",
       " ('PurpOr', 7),\n",
       " ('RedOr', 2),\n",
       " ('RedOr', 3),\n",
       " ('RedOr', 4),\n",
       " ('RedOr', 5),\n",
       " ('RedOr', 6),\n",
       " ('RedOr', 7),\n",
       " ('Sunset', 2),\n",
       " ('Sunset', 3),\n",
       " ('Sunset', 4),\n",
       " ('Sunset', 5),\n",
       " ('Sunset', 6),\n",
       " ('Sunset', 7),\n",
       " ('SunsetDark', 2),\n",
       " ('SunsetDark', 3),\n",
       " ('SunsetDark', 4),\n",
       " ('SunsetDark', 5),\n",
       " ('SunsetDark', 6),\n",
       " ('SunsetDark', 7),\n",
       " ('Teal', 2),\n",
       " ('Teal', 3),\n",
       " ('Teal', 4),\n",
       " ('Teal', 5),\n",
       " ('Teal', 6),\n",
       " ('Teal', 7),\n",
       " ('TealGrn', 2),\n",
       " ('TealGrn', 3),\n",
       " ('TealGrn', 4),\n",
       " ('TealGrn', 5),\n",
       " ('TealGrn', 6),\n",
       " ('TealGrn', 7),\n",
       " ('agGrnYl', 2),\n",
       " ('agGrnYl', 3),\n",
       " ('agGrnYl', 4),\n",
       " ('agGrnYl', 5),\n",
       " ('agGrnYl', 6),\n",
       " ('agGrnYl', 7),\n",
       " ('agSunset', 2),\n",
       " ('agSunset', 3),\n",
       " ('agSunset', 4),\n",
       " ('agSunset', 5),\n",
       " ('agSunset', 6),\n",
       " ('agSunset', 7)]"
      ]
     },
     "execution_count": 64,
     "metadata": {},
     "output_type": "execute_result"
    }
   ],
   "source": [
    "pal.cartocolors.sequential._NAMES_AND_LENGTHS"
   ]
  },
  {
   "cell_type": "code",
   "execution_count": 65,
   "id": "c6b2cc5a",
   "metadata": {},
   "outputs": [
    {
     "name": "stdout",
     "output_type": "stream",
     "text": [
      "Inferno_3     sequential      3\n",
      "Inferno_4     sequential      4\n",
      "Inferno_5     sequential      5\n",
      "Inferno_6     sequential      6\n",
      "Inferno_7     sequential      7\n",
      "Inferno_8     sequential      8\n",
      "Inferno_9     sequential      9\n",
      "Inferno_10    sequential      10\n",
      "Inferno_11    sequential      11\n",
      "Inferno_12    sequential      12\n",
      "Inferno_13    sequential      13\n",
      "Inferno_14    sequential      14\n",
      "Inferno_15    sequential      15\n",
      "Inferno_16    sequential      16\n",
      "Inferno_17    sequential      17\n",
      "Inferno_18    sequential      18\n",
      "Inferno_19    sequential      19\n",
      "Inferno_20    sequential      20\n",
      "Magma_3       sequential      3\n",
      "Magma_4       sequential      4\n",
      "Magma_5       sequential      5\n",
      "Magma_6       sequential      6\n",
      "Magma_7       sequential      7\n",
      "Magma_8       sequential      8\n",
      "Magma_9       sequential      9\n",
      "Magma_10      sequential      10\n",
      "Magma_11      sequential      11\n",
      "Magma_12      sequential      12\n",
      "Magma_13      sequential      13\n",
      "Magma_14      sequential      14\n",
      "Magma_15      sequential      15\n",
      "Magma_16      sequential      16\n",
      "Magma_17      sequential      17\n",
      "Magma_18      sequential      18\n",
      "Magma_19      sequential      19\n",
      "Magma_20      sequential      20\n",
      "Plasma_3      sequential      3\n",
      "Plasma_4      sequential      4\n",
      "Plasma_5      sequential      5\n",
      "Plasma_6      sequential      6\n",
      "Plasma_7      sequential      7\n",
      "Plasma_8      sequential      8\n",
      "Plasma_9      sequential      9\n",
      "Plasma_10     sequential      10\n",
      "Plasma_11     sequential      11\n",
      "Plasma_12     sequential      12\n",
      "Plasma_13     sequential      13\n",
      "Plasma_14     sequential      14\n",
      "Plasma_15     sequential      15\n",
      "Plasma_16     sequential      16\n",
      "Plasma_17     sequential      17\n",
      "Plasma_18     sequential      18\n",
      "Plasma_19     sequential      19\n",
      "Plasma_20     sequential      20\n",
      "Viridis_3     sequential      3\n",
      "Viridis_4     sequential      4\n",
      "Viridis_5     sequential      5\n",
      "Viridis_6     sequential      6\n",
      "Viridis_7     sequential      7\n",
      "Viridis_8     sequential      8\n",
      "Viridis_9     sequential      9\n",
      "Viridis_10    sequential      10\n",
      "Viridis_11    sequential      11\n",
      "Viridis_12    sequential      12\n",
      "Viridis_13    sequential      13\n",
      "Viridis_14    sequential      14\n",
      "Viridis_15    sequential      15\n",
      "Viridis_16    sequential      16\n",
      "Viridis_17    sequential      17\n",
      "Viridis_18    sequential      18\n",
      "Viridis_19    sequential      19\n",
      "Viridis_20    sequential      20\n"
     ]
    }
   ],
   "source": [
    "pal.matplotlib.print_maps()"
   ]
  },
  {
   "cell_type": "code",
   "execution_count": 80,
   "id": "7b8b3b5e",
   "metadata": {},
   "outputs": [
    {
     "data": {
      "text/plain": [
       "['#440154',\n",
       " '#481467',\n",
       " '#482677',\n",
       " '#453781',\n",
       " '#3F4788',\n",
       " '#39558C',\n",
       " '#32648E',\n",
       " '#2D718E',\n",
       " '#287D8E',\n",
       " '#238A8D',\n",
       " '#1F968B',\n",
       " '#20A386',\n",
       " '#29AF7F',\n",
       " '#3BBB75',\n",
       " '#56C667',\n",
       " '#73D056',\n",
       " '#95D840',\n",
       " '#B8DE29',\n",
       " '#DDE318',\n",
       " '#FDE725']"
      ]
     },
     "execution_count": 80,
     "metadata": {},
     "output_type": "execute_result"
    }
   ],
   "source": [
    "pal.matplotlib.Viridis_20.hex_colors"
   ]
  },
  {
   "cell_type": "code",
   "execution_count": 79,
   "id": "84d232f3",
   "metadata": {},
   "outputs": [
    {
     "name": "stdout",
     "output_type": "stream",
     "text": [
      "0.266667\n"
     ]
    }
   ],
   "source": [
    "i = 68/255\n",
    "print(\"%.6f\" % i)"
   ]
  },
  {
   "cell_type": "code",
   "execution_count": 81,
   "id": "9536114c",
   "metadata": {},
   "outputs": [
    {
     "data": {
      "text/plain": [
       "[[68, 1, 84],\n",
       " [72, 20, 103],\n",
       " [72, 38, 119],\n",
       " [69, 55, 129],\n",
       " [63, 71, 136],\n",
       " [57, 85, 140],\n",
       " [50, 100, 142],\n",
       " [45, 113, 142],\n",
       " [40, 125, 142],\n",
       " [35, 138, 141],\n",
       " [31, 150, 139],\n",
       " [32, 163, 134],\n",
       " [41, 175, 127],\n",
       " [59, 187, 117],\n",
       " [86, 198, 103],\n",
       " [115, 208, 86],\n",
       " [149, 216, 64],\n",
       " [184, 222, 41],\n",
       " [221, 227, 24],\n",
       " [253, 231, 37]]"
      ]
     },
     "execution_count": 81,
     "metadata": {},
     "output_type": "execute_result"
    }
   ],
   "source": [
    "pal.matplotlib.Viridis_20.colors"
   ]
  },
  {
   "cell_type": "code",
   "execution_count": 82,
   "id": "19c8093b",
   "metadata": {},
   "outputs": [
    {
     "data": {
      "text/plain": [
       "[(0.26666666666666666, 0.00392156862745098, 0.32941176470588235),\n",
       " (0.2823529411764706, 0.0784313725490196, 0.403921568627451),\n",
       " (0.2823529411764706, 0.14901960784313725, 0.4666666666666667),\n",
       " (0.27058823529411763, 0.21568627450980393, 0.5058823529411764),\n",
       " (0.24705882352941178, 0.2784313725490196, 0.5333333333333333),\n",
       " (0.2235294117647059, 0.3333333333333333, 0.5490196078431373),\n",
       " (0.19607843137254902, 0.39215686274509803, 0.5568627450980392),\n",
       " (0.17647058823529413, 0.44313725490196076, 0.5568627450980392),\n",
       " (0.1568627450980392, 0.49019607843137253, 0.5568627450980392),\n",
       " (0.13725490196078433, 0.5411764705882353, 0.5529411764705883),\n",
       " (0.12156862745098039, 0.5882352941176471, 0.5450980392156862),\n",
       " (0.12549019607843137, 0.6392156862745098, 0.5254901960784314),\n",
       " (0.1607843137254902, 0.6862745098039216, 0.4980392156862745),\n",
       " (0.23137254901960785, 0.7333333333333333, 0.4588235294117647),\n",
       " (0.33725490196078434, 0.7764705882352941, 0.403921568627451),\n",
       " (0.45098039215686275, 0.8156862745098039, 0.33725490196078434),\n",
       " (0.5843137254901961, 0.8470588235294118, 0.25098039215686274),\n",
       " (0.7215686274509804, 0.8705882352941177, 0.1607843137254902),\n",
       " (0.8666666666666667, 0.8901960784313725, 0.09411764705882353),\n",
       " (0.9921568627450981, 0.9058823529411765, 0.1450980392156863)]"
      ]
     },
     "execution_count": 82,
     "metadata": {},
     "output_type": "execute_result"
    }
   ],
   "source": [
    "pal.matplotlib.Viridis_20.mpl_colors"
   ]
  },
  {
   "cell_type": "code",
   "execution_count": 83,
   "id": "9e0bac93",
   "metadata": {},
   "outputs": [
    {
     "data": {
      "text/plain": [
       "['#440154',\n",
       " '#481467',\n",
       " '#482677',\n",
       " '#453781',\n",
       " '#3F4788',\n",
       " '#39558C',\n",
       " '#32648E',\n",
       " '#2D718E',\n",
       " '#287D8E',\n",
       " '#238A8D',\n",
       " '#1F968B',\n",
       " '#20A386',\n",
       " '#29AF7F',\n",
       " '#3BBB75',\n",
       " '#56C667',\n",
       " '#73D056',\n",
       " '#95D840',\n",
       " '#B8DE29',\n",
       " '#DDE318',\n",
       " '#FDE725']"
      ]
     },
     "execution_count": 83,
     "metadata": {},
     "output_type": "execute_result"
    }
   ],
   "source": [
    "pal.matplotlib.Viridis_20.hex_colors"
   ]
  },
  {
   "cell_type": "code",
   "execution_count": 87,
   "id": "2e81f131",
   "metadata": {},
   "outputs": [
    {
     "name": "stdout",
     "output_type": "stream",
     "text": [
      "Inferno_3     sequential      3\n",
      "Inferno_4     sequential      4\n",
      "Inferno_5     sequential      5\n",
      "Inferno_6     sequential      6\n",
      "Inferno_7     sequential      7\n",
      "Inferno_8     sequential      8\n",
      "Inferno_9     sequential      9\n",
      "Inferno_10    sequential      10\n",
      "Inferno_11    sequential      11\n",
      "Inferno_12    sequential      12\n",
      "Inferno_13    sequential      13\n",
      "Inferno_14    sequential      14\n",
      "Inferno_15    sequential      15\n",
      "Inferno_16    sequential      16\n",
      "Inferno_17    sequential      17\n",
      "Inferno_18    sequential      18\n",
      "Inferno_19    sequential      19\n",
      "Inferno_20    sequential      20\n",
      "Magma_3       sequential      3\n",
      "Magma_4       sequential      4\n",
      "Magma_5       sequential      5\n",
      "Magma_6       sequential      6\n",
      "Magma_7       sequential      7\n",
      "Magma_8       sequential      8\n",
      "Magma_9       sequential      9\n",
      "Magma_10      sequential      10\n",
      "Magma_11      sequential      11\n",
      "Magma_12      sequential      12\n",
      "Magma_13      sequential      13\n",
      "Magma_14      sequential      14\n",
      "Magma_15      sequential      15\n",
      "Magma_16      sequential      16\n",
      "Magma_17      sequential      17\n",
      "Magma_18      sequential      18\n",
      "Magma_19      sequential      19\n",
      "Magma_20      sequential      20\n",
      "Plasma_3      sequential      3\n",
      "Plasma_4      sequential      4\n",
      "Plasma_5      sequential      5\n",
      "Plasma_6      sequential      6\n",
      "Plasma_7      sequential      7\n",
      "Plasma_8      sequential      8\n",
      "Plasma_9      sequential      9\n",
      "Plasma_10     sequential      10\n",
      "Plasma_11     sequential      11\n",
      "Plasma_12     sequential      12\n",
      "Plasma_13     sequential      13\n",
      "Plasma_14     sequential      14\n",
      "Plasma_15     sequential      15\n",
      "Plasma_16     sequential      16\n",
      "Plasma_17     sequential      17\n",
      "Plasma_18     sequential      18\n",
      "Plasma_19     sequential      19\n",
      "Plasma_20     sequential      20\n",
      "Viridis_3     sequential      3\n",
      "Viridis_4     sequential      4\n",
      "Viridis_5     sequential      5\n",
      "Viridis_6     sequential      6\n",
      "Viridis_7     sequential      7\n",
      "Viridis_8     sequential      8\n",
      "Viridis_9     sequential      9\n",
      "Viridis_10    sequential      10\n",
      "Viridis_11    sequential      11\n",
      "Viridis_12    sequential      12\n",
      "Viridis_13    sequential      13\n",
      "Viridis_14    sequential      14\n",
      "Viridis_15    sequential      15\n",
      "Viridis_16    sequential      16\n",
      "Viridis_17    sequential      17\n",
      "Viridis_18    sequential      18\n",
      "Viridis_19    sequential      19\n",
      "Viridis_20    sequential      20\n"
     ]
    }
   ],
   "source": [
    "pal.matplotlib.print_maps()"
   ]
  },
  {
   "cell_type": "code",
   "execution_count": 91,
   "id": "9aa0a7fe",
   "metadata": {},
   "outputs": [
    {
     "data": {
      "image/png": "[encoded data removed]",
      "text/html": [
       "<div style=\"vertical-align: middle;\"><strong>Viridis_2</strong> </div><div class=\"cmap\"><img alt=\"Viridis_2 colormap\" title=\"Viridis_2\" style=\"border: 1px solid #555;\" src=\"data:image/png;base64,iVBORw0KGgoAAAANSUhEUgAAAgAAAABACAYAAABsv8+/AAAAGHRFWHRUaXRsZQBWaXJpZGlzXzIgY29sb3JtYXD3zByOAAAAHnRFWHREZXNjcmlwdGlvbgBWaXJpZGlzXzIgY29sb3JtYXC1V/oFAAAAMHRFWHRBdXRob3IATWF0cGxvdGxpYiB2My42LjIsIGh0dHBzOi8vbWF0cGxvdGxpYi5vcmdxzlVfAAAAMnRFWHRTb2Z0d2FyZQBNYXRwbG90bGliIHYzLjYuMiwgaHR0cHM6Ly9tYXRwbG90bGliLm9yZ19oyngAAAG4SURBVHic7dZBTsJgGEXRr67NJbj/reBAMaHYtBQGJPecSWPL/xJNiXf5XL4uMzMzP5dlmZvrrH5elsvO89/7G3und6+zy4t2Z33u6O7G32m2zr3X7tbe6d1Z319fLzvPV+fn2Pt1eHduP/+uu1t7p3dnfe7J3dk6d3J3/n/++O6x9/vs7tbe6d158Puwtzu3n9vf3fl+3/2+77l7v/fk7t/g/3v77/Vqd9b3n9x98f/n6/VjAIAcAQAAQQIAAIIEAAAECQAACBIAABAkAAAgSAAAQJAAAIAgAQAAQQIAAIIEAAAECQAACBIAABAkAAAgSAAAQJAAAIAgAQAAQQIAAIIEAAAECQAACBIAABAkAAAgSAAAQJAAAIAgAQAAQQIAAIIEAAAECQAACBIAABAkAAAgSAAAQJAAAIAgAQAAQQIAAIIEAAAECQAACBIAABAkAAAgSAAAQJAAAIAgAQAAQQIAAIIEAAAECQAACBIAABAkAAAgSAAAQJAAAIAgAQAAQQIAAIIEAAAECQAACBIAABAkAAAgSAAAQJAAAIAgAQAAQQIAAIIEAAAECQAACBIAABAkAAAg6BsEvDKIPvie0wAAAABJRU5ErkJggg==\"></div><div style=\"vertical-align: middle; max-width: 514px; display: flex; justify-content: space-between;\"><div style=\"float: left;\"><div title=\"#440154ff\" style=\"display: inline-block; width: 1em; height: 1em; margin: 0; vertical-align: middle; border: 1px solid #555; background-color: #440154ff;\"></div> under</div><div style=\"margin: 0 auto; display: inline-block;\">bad <div title=\"#00000000\" style=\"display: inline-block; width: 1em; height: 1em; margin: 0; vertical-align: middle; border: 1px solid #555; background-color: #00000000;\"></div></div><div style=\"float: right;\">over <div title=\"#fde725ff\" style=\"display: inline-block; width: 1em; height: 1em; margin: 0; vertical-align: middle; border: 1px solid #555; background-color: #fde725ff;\"></div></div>"
      ],
      "text/plain": [
       "<matplotlib.colors.LinearSegmentedColormap at 0x12b1ab610>"
      ]
     },
     "execution_count": 91,
     "metadata": {},
     "output_type": "execute_result"
    }
   ],
   "source": [
    "pal.matplotlib.get_map('Viridis_2').mpl_colormap"
   ]
  },
  {
   "cell_type": "code",
   "execution_count": 90,
   "id": "0b874049",
   "metadata": {},
   "outputs": [
    {
     "data": {
      "image/png": "[encoded data removed]",
      "text/html": [
       "<div style=\"vertical-align: middle;\"><strong>viridis</strong> </div><div class=\"cmap\"><img alt=\"viridis colormap\" title=\"viridis\" style=\"border: 1px solid #555;\" src=\"data:image/png;base64,iVBORw0KGgoAAAANSUhEUgAAAgAAAABACAYAAABsv8+/AAAAFnRFWHRUaXRsZQB2aXJpZGlzIGNvbG9ybWFwrE0mCwAAABx0RVh0RGVzY3JpcHRpb24AdmlyaWRpcyBjb2xvcm1hcAtjl3IAAAAwdEVYdEF1dGhvcgBNYXRwbG90bGliIHYzLjYuMiwgaHR0cHM6Ly9tYXRwbG90bGliLm9yZ3HOVV8AAAAydEVYdFNvZnR3YXJlAE1hdHBsb3RsaWIgdjMuNi4yLCBodHRwczovL21hdHBsb3RsaWIub3JnX2jKeAAAAiJJREFUeJzt1kGSmzAURdEv2FqWkP0vJfQgMhQCGceV2Ttn4pL0EVQPum771X5vVVXVWv39XfrPeV193V5zS98f1sf5/fPjey73zu6/3Hv/uz2cz57f9vP68rxO9+/zre7nhvvG+et6vH92bw3PDfcsD+eX59+/53n96f3362/f87/vf5yr93Of72/fPV9P89tX3zGeH3OT8/07Zs+/32+TuXZZD8/VODf8W5uuH/b7vctlfuv7NazH8/t7ZnP7bz2cD3NL+/Ph3Hl+/efz83vWun/vuL++nquH9eu9w/uu6/vvOO49f/8xf77vOj+8b7Y/fMfse9ca/y7nv+d62a++X+f1vt+G/b7u+/u6TxzzS//tc2053QMABBEAABBIAABAIAEAAIEEAAAEEgAAEEgAAEAgAQAAgQQAAAQSAAAQSAAAQCABAACBBAAABBIAABBIAABAIAEAAIEEAAAEEgAAEEgAAEAgAQAAgQQAAAQSAAAQSAAAQCABAACBBAAABBIAABBIAABAIAEAAIEEAAAEEgAAEEgAAEAgAQAAgQQAAAQSAAAQSAAAQCABAACBBAAABBIAABBIAABAIAEAAIEEAAAEEgAAEEgAAEAgAQAAgQQAAAQSAAAQSAAAQCABAACBBAAABBIAABBIAABAIAEAAIEEAAAEEgAAEEgAAEAgAQAAgQQAAAQSAAAQSAAAQCABAACBBAAABBIAABBIAABAoB9ucImHxcKZtAAAAABJRU5ErkJggg==\"></div><div style=\"vertical-align: middle; max-width: 514px; display: flex; justify-content: space-between;\"><div style=\"float: left;\"><div title=\"#440154ff\" style=\"display: inline-block; width: 1em; height: 1em; margin: 0; vertical-align: middle; border: 1px solid #555; background-color: #440154ff;\"></div> under</div><div style=\"margin: 0 auto; display: inline-block;\">bad <div title=\"#00000000\" style=\"display: inline-block; width: 1em; height: 1em; margin: 0; vertical-align: middle; border: 1px solid #555; background-color: #00000000;\"></div></div><div style=\"float: right;\">over <div title=\"#fde725ff\" style=\"display: inline-block; width: 1em; height: 1em; margin: 0; vertical-align: middle; border: 1px solid #555; background-color: #fde725ff;\"></div></div>"
      ],
      "text/plain": [
       "<matplotlib.colors.ListedColormap at 0x12b230390>"
      ]
     },
     "execution_count": 90,
     "metadata": {},
     "output_type": "execute_result"
    }
   ],
   "source": [
    "mpl.colormaps['viridis']"
   ]
  },
  {
   "cell_type": "code",
   "execution_count": 98,
   "id": "a5359446",
   "metadata": {},
   "outputs": [
    {
     "data": {
      "text/plain": [
       "ValuesView(<matplotlib.cm.ColormapRegistry object at 0x1054c3510>)"
      ]
     },
     "execution_count": 98,
     "metadata": {},
     "output_type": "execute_result"
    }
   ],
   "source": [
    "mpl.cm._colormaps."
   ]
  },
  {
   "cell_type": "code",
   "execution_count": null,
   "id": "7e4116af",
   "metadata": {},
   "outputs": [],
   "source": []
  }
 ],
 "metadata": {
  "kernelspec": {
   "display_name": "Python 3 (ipykernel)",
   "language": "python",
   "name": "python3"
  },
  "language_info": {
   "codemirror_mode": {
    "name": "ipython",
    "version": 3
   },
   "file_extension": ".py",
   "mimetype": "text/x-python",
   "name": "python",
   "nbconvert_exporter": "python",
   "pygments_lexer": "ipython3",
   "version": "3.11.0"
  }
 },
 "nbformat": 4,
 "nbformat_minor": 5
}
