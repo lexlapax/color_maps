{
 "cells": [
  {
   "cell_type": "code",
   "execution_count": 1,
   "id": "d37080f8",
   "metadata": {},
   "outputs": [],
   "source": [
    "import matplotlib.pyplot as plt\n",
    "import palettable as pal"
   ]
  },
  {
   "cell_type": "code",
   "execution_count": 5,
   "id": "0df194da",
   "metadata": {},
   "outputs": [
    {
     "data": {
      "image/png": "[encoded data removed]",
      "text/plain": [
       "<IPython.core.display.Image object>"
      ]
     },
     "metadata": {},
     "output_type": "display_data"
    }
   ],
   "source": [
    "pal.wesanderson.Aquatic1_5.show_continuous_image()"
   ]
  },
  {
   "cell_type": "code",
   "execution_count": 6,
   "id": "4c24848e",
   "metadata": {},
   "outputs": [
    {
     "data": {
      "image/png": "[encoded data removed]",
      "text/html": [
       "<div style=\"vertical-align: middle;\"><strong>Aquatic1</strong> </div><div class=\"cmap\"><img alt=\"Aquatic1 colormap\" title=\"Aquatic1\" style=\"border: 1px solid #555;\" src=\"data:image/png;base64,iVBORw0KGgoAAAANSUhEUgAAAgAAAABACAYAAABsv8+/AAAAF3RFWHRUaXRsZQBBcXVhdGljMSBjb2xvcm1hcC7tadkAAAAddEVYdERlc2NyaXB0aW9uAEFxdWF0aWMxIGNvbG9ybWFwB5OO8AAAADB0RVh0QXV0aG9yAE1hdHBsb3RsaWIgdjMuNi4yLCBodHRwczovL21hdHBsb3RsaWIub3Jncc5VXwAAADJ0RVh0U29mdHdhcmUATWF0cGxvdGxpYiB2My42LjIsIGh0dHBzOi8vbWF0cGxvdGxpYi5vcmdfaMp4AAAB9ElEQVR4nO3WQU7DMBRFUSfpJpizBPa/M2oGaYLq9pOoMEB650yiOK7ttAjd6eP9rbfWWm/3+jQMTOvAPu/2fPxcNe973Wm4Hxd4Pu9hv3Gfg3nVfg/7VOc6ev9xn2Fetd+fvf+4T3Wuh/daL5d5vS77dV3hstzfb88vczG+9GGdbf7B+LBPeZ7yfD/P+z5f9T5nz1fNL869HJzn19/ji9/D7br9fVyv8/Nrv7//vC6vzevF+uP8o3m92N95XzrvZr79H5j2ax/G+/B8+9ww3orxk+ue3q8dnOPkuv9uv/Z83er3eXW/ed8PAIgjAAAgkAAAgEACAAACCQAACCQAACCQAACAQAIAAAIJAAAIJAAAIJAAAIBAAgAAAgkAAAgkAAAgkAAAgEACAAACCQAACCQAACCQAACAQAIAAAIJAAAIJAAAIJAAAIBAAgAAAgkAAAgkAAAgkAAAgEACAAACCQAACCQAACCQAACAQAIAAAIJAAAIJAAAIJAAAIBAAgAAAgkAAAgkAAAgkAAAgEACAAACCQAACCQAACCQAACAQAIAAAIJAAAIJAAAIJAAAIBAAgAAAgkAAAgkAAAgkAAAgEACAAACCQAACCQAACCQAACAQAIAAAIJAAAIJAAAIJAAAIBAAgAAAgkAAAgkAAAgkAAAgEBfbiPHTA86y4QAAAAASUVORK5CYII=\"></div><div style=\"vertical-align: middle; max-width: 514px; display: flex; justify-content: space-between;\"><div style=\"float: left;\"><div title=\"#342419ff\" style=\"display: inline-block; width: 1em; height: 1em; margin: 0; vertical-align: middle; border: 1px solid #555; background-color: #342419ff;\"></div> under</div><div style=\"margin: 0 auto; display: inline-block;\">bad <div title=\"#00000000\" style=\"display: inline-block; width: 1em; height: 1em; margin: 0; vertical-align: middle; border: 1px solid #555; background-color: #00000000;\"></div></div><div style=\"float: right;\">over <div title=\"#b89382ff\" style=\"display: inline-block; width: 1em; height: 1em; margin: 0; vertical-align: middle; border: 1px solid #555; background-color: #b89382ff;\"></div></div>"
      ],
      "text/plain": [
       "<matplotlib.colors.LinearSegmentedColormap at 0x16a48e750>"
      ]
     },
     "execution_count": 6,
     "metadata": {},
     "output_type": "execute_result"
    }
   ],
   "source": [
    "pal.wesanderson.Aquatic1_5.mpl_colormap"
   ]
  },
  {
   "cell_type": "code",
   "execution_count": 7,
   "id": "90652cd5",
   "metadata": {},
   "outputs": [
    {
     "data": {
      "text/html": [
       "<style type=\"text/css\">table.blockgrid {border: none;} .blockgrid tr {border: none;} .blockgrid td {padding: 0px;} #blocks6b65de2b-d91c-49ff-963b-5f07d4db377d td {border: 1px solid white;}</style><table id=\"blocks6b65de2b-d91c-49ff-963b-5f07d4db377d\" class=\"blockgrid\"><tbody><tr><td title=\"Index: [0, 0]&#10;Color: (52, 36, 25)\" style=\"width: 100px; height: 100px;background-color: rgb(52, 36, 25);\"></td><td title=\"Index: [0, 1]&#10;Color: (28, 64, 39)\" style=\"width: 100px; height: 100px;background-color: rgb(28, 64, 39);\"></td><td title=\"Index: [0, 2]&#10;Color: (241, 201, 14)\" style=\"width: 100px; height: 100px;background-color: rgb(241, 201, 14);\"></td><td title=\"Index: [0, 3]&#10;Color: (102, 88, 153)\" style=\"width: 100px; height: 100px;background-color: rgb(102, 88, 153);\"></td><td title=\"Index: [0, 4]&#10;Color: (184, 147, 130)\" style=\"width: 100px; height: 100px;background-color: rgb(184, 147, 130);\"></td></tr></tbody></table>"
      ],
      "text/plain": [
       "<IPython.core.display.HTML object>"
      ]
     },
     "metadata": {},
     "output_type": "display_data"
    }
   ],
   "source": [
    "pal.wesanderson.Aquatic1_5.show_as_blocks()"
   ]
  },
  {
   "cell_type": "code",
   "execution_count": 8,
   "id": "d2133805",
   "metadata": {},
   "outputs": [
    {
     "data": {
      "image/png": "[encoded data removed]",
      "text/plain": [
       "<IPython.core.display.Image object>"
      ]
     },
     "metadata": {},
     "output_type": "display_data"
    }
   ],
   "source": [
    "pal.wesanderson.Aquatic1_5.show_continuous_image()"
   ]
  },
  {
   "cell_type": "code",
   "execution_count": 9,
   "id": "2442b9b4",
   "metadata": {},
   "outputs": [
    {
     "data": {
      "image/png": "[encoded data removed]",
      "text/plain": [
       "<IPython.core.display.Image object>"
      ]
     },
     "metadata": {},
     "output_type": "display_data"
    }
   ],
   "source": [
    "pal.wesanderson.Aquatic1_5.show_discrete_image()"
   ]
  },
  {
   "cell_type": "code",
   "execution_count": 10,
   "id": "b8d77139",
   "metadata": {},
   "outputs": [
    {
     "data": {
      "text/plain": [
       "[(0.20392156862745098, 0.1411764705882353, 0.09803921568627451),\n",
       " (0.10980392156862745, 0.25098039215686274, 0.15294117647058825),\n",
       " (0.9450980392156862, 0.788235294117647, 0.054901960784313725),\n",
       " (0.4, 0.34509803921568627, 0.6),\n",
       " (0.7215686274509804, 0.5764705882352941, 0.5098039215686274)]"
      ]
     },
     "execution_count": 10,
     "metadata": {},
     "output_type": "execute_result"
    }
   ],
   "source": [
    "pal.wesanderson.Aquatic1_5.mpl_colors"
   ]
  },
  {
   "cell_type": "code",
   "execution_count": 13,
   "id": "1f35c9db",
   "metadata": {},
   "outputs": [
    {
     "data": {
      "image/png": "[encoded data removed]",
      "text/html": [
       "<div style=\"vertical-align: middle;\"><strong>Aquatic1</strong> </div><div class=\"cmap\"><img alt=\"Aquatic1 colormap\" title=\"Aquatic1\" style=\"border: 1px solid #555;\" src=\"data:image/png;base64,iVBORw0KGgoAAAANSUhEUgAAAgAAAABACAYAAABsv8+/AAAAF3RFWHRUaXRsZQBBcXVhdGljMSBjb2xvcm1hcC7tadkAAAAddEVYdERlc2NyaXB0aW9uAEFxdWF0aWMxIGNvbG9ybWFwB5OO8AAAADB0RVh0QXV0aG9yAE1hdHBsb3RsaWIgdjMuNi4yLCBodHRwczovL21hdHBsb3RsaWIub3Jncc5VXwAAADJ0RVh0U29mdHdhcmUATWF0cGxvdGxpYiB2My42LjIsIGh0dHBzOi8vbWF0cGxvdGxpYi5vcmdfaMp4AAAB9ElEQVR4nO3WQU7DMBRFUSfpJpizBPa/M2oGaYLq9pOoMEB650yiOK7ttAjd6eP9rbfWWm/3+jQMTOvAPu/2fPxcNe973Wm4Hxd4Pu9hv3Gfg3nVfg/7VOc6ev9xn2Fetd+fvf+4T3Wuh/daL5d5vS77dV3hstzfb88vczG+9GGdbf7B+LBPeZ7yfD/P+z5f9T5nz1fNL869HJzn19/ji9/D7br9fVyv8/Nrv7//vC6vzevF+uP8o3m92N95XzrvZr79H5j2ax/G+/B8+9ww3orxk+ue3q8dnOPkuv9uv/Z83er3eXW/ed8PAIgjAAAgkAAAgEACAAACCQAACCQAACCQAACAQAIAAAIJAAAIJAAAIJAAAIBAAgAAAgkAAAgkAAAgkAAAgEACAAACCQAACCQAACCQAACAQAIAAAIJAAAIJAAAIJAAAIBAAgAAAgkAAAgkAAAgkAAAgEACAAACCQAACCQAACCQAACAQAIAAAIJAAAIJAAAIJAAAIBAAgAAAgkAAAgkAAAgkAAAgEACAAACCQAACCQAACCQAACAQAIAAAIJAAAIJAAAIJAAAIBAAgAAAgkAAAgkAAAgkAAAgEACAAACCQAACCQAACCQAACAQAIAAAIJAAAIJAAAIJAAAIBAAgAAAgkAAAgkAAAgkAAAgEBfbiPHTA86y4QAAAAASUVORK5CYII=\"></div><div style=\"vertical-align: middle; max-width: 514px; display: flex; justify-content: space-between;\"><div style=\"float: left;\"><div title=\"#342419ff\" style=\"display: inline-block; width: 1em; height: 1em; margin: 0; vertical-align: middle; border: 1px solid #555; background-color: #342419ff;\"></div> under</div><div style=\"margin: 0 auto; display: inline-block;\">bad <div title=\"#00000000\" style=\"display: inline-block; width: 1em; height: 1em; margin: 0; vertical-align: middle; border: 1px solid #555; background-color: #00000000;\"></div></div><div style=\"float: right;\">over <div title=\"#b89382ff\" style=\"display: inline-block; width: 1em; height: 1em; margin: 0; vertical-align: middle; border: 1px solid #555; background-color: #b89382ff;\"></div></div>"
      ],
      "text/plain": [
       "<matplotlib.colors.LinearSegmentedColormap at 0x16a582050>"
      ]
     },
     "execution_count": 13,
     "metadata": {},
     "output_type": "execute_result"
    }
   ],
   "source": [
    "pal.wesanderson.Aquatic1_5.mpl_colormap"
   ]
  },
  {
   "cell_type": "code",
   "execution_count": 14,
   "id": "352a375d",
   "metadata": {},
   "outputs": [
    {
     "data": {
      "image/png": "[encoded data removed]",
      "text/plain": [
       "<IPython.core.display.Image object>"
      ]
     },
     "metadata": {},
     "output_type": "display_data"
    }
   ],
   "source": [
    "pal.matplotlib.Viridis_20.show_discrete_image()"
   ]
  },
  {
   "cell_type": "code",
   "execution_count": 15,
   "id": "6b6e6478",
   "metadata": {},
   "outputs": [
    {
     "data": {
      "image/png": "[encoded data removed]",
      "text/plain": [
       "<IPython.core.display.Image object>"
      ]
     },
     "metadata": {},
     "output_type": "display_data"
    }
   ],
   "source": [
    "pal.matplotlib.Viridis_20.show_continuous_image()"
   ]
  },
  {
   "cell_type": "code",
   "execution_count": 16,
   "id": "43d63ba4",
   "metadata": {},
   "outputs": [
    {
     "data": {
      "image/png": "[encoded data removed]",
      "text/html": [
       "<div style=\"vertical-align: middle;\"><strong>Viridis_20</strong> </div><div class=\"cmap\"><img alt=\"Viridis_20 colormap\" title=\"Viridis_20\" style=\"border: 1px solid #555;\" src=\"data:image/png;base64,iVBORw0KGgoAAAANSUhEUgAAAgAAAABACAYAAABsv8+/AAAAGXRFWHRUaXRsZQBWaXJpZGlzXzIwIGNvbG9ybWFwYlvxUgAAAB90RVh0RGVzY3JpcHRpb24AVmlyaWRpc18yMCBjb2xvcm1hcBhzMBwAAAAwdEVYdEF1dGhvcgBNYXRwbG90bGliIHYzLjYuMiwgaHR0cHM6Ly9tYXRwbG90bGliLm9yZ3HOVV8AAAAydEVYdFNvZnR3YXJlAE1hdHBsb3RsaWIgdjMuNi4yLCBodHRwczovL21hdHBsb3RsaWIub3JnX2jKeAAAAhJJREFUeJzt1rtxhDAARVGJbc0luP9SjBPAI4EQuw7fOQmjL6wDz61f9XstpZRSa2mey7IN2/G+Ppo/nRvet6/357tzo/dM9q/H/nK7f/3n+n7/eqx34359H8/ueXxvacbn756du94/fv/1e2f3rcto//X3jfeNvvPZ/DEu9/sez5fZvvW97/r4d3XvKff73/2+/r5yOnd9z/P56321m9/H9fiu/t/XZH8d7N8sx3r7XE73rd3+7ny5P7+MnmWyPt3389H+1+y+0/p27nR/P7+P23tG4/G+7t7ju9vfu4//5vvf166Pv7M99xr8nY71033rw/P9e8p2vjbPV63X8/u4duPJ/N99AEAcAQAAgQQAAAQSAAAQSAAAQCABAACBBAAABBIAABBIAABAIAEAAIEEAAAEEgAAEEgAAEAgAQAAgQQAAAQSAAAQSAAAQCABAACBBAAABBIAABBIAABAIAEAAIEEAAAEEgAAEEgAAEAgAQAAgQQAAAQSAAAQSAAAQCABAACBBAAABBIAABBIAABAIAEAAIEEAAAEEgAAEEgAAEAgAQAAgQQAAAQSAAAQSAAAQCABAACBBAAABBIAABBIAABAIAEAAIEEAAAEEgAAEEgAAEAgAQAAgQQAAAQSAAAQSAAAQCABAACBBAAABBIAABBIAABAIAEAAIEEAAAEEgAAEEgAAEAgAQAAgQQAAAT6BYtGiIil4Ta7AAAAAElFTkSuQmCC\"></div><div style=\"vertical-align: middle; max-width: 514px; display: flex; justify-content: space-between;\"><div style=\"float: left;\"><div title=\"#440154ff\" style=\"display: inline-block; width: 1em; height: 1em; margin: 0; vertical-align: middle; border: 1px solid #555; background-color: #440154ff;\"></div> under</div><div style=\"margin: 0 auto; display: inline-block;\">bad <div title=\"#00000000\" style=\"display: inline-block; width: 1em; height: 1em; margin: 0; vertical-align: middle; border: 1px solid #555; background-color: #00000000;\"></div></div><div style=\"float: right;\">over <div title=\"#fde725ff\" style=\"display: inline-block; width: 1em; height: 1em; margin: 0; vertical-align: middle; border: 1px solid #555; background-color: #fde725ff;\"></div></div>"
      ],
      "text/plain": [
       "<matplotlib.colors.LinearSegmentedColormap at 0x16aa33bd0>"
      ]
     },
     "execution_count": 16,
     "metadata": {},
     "output_type": "execute_result"
    }
   ],
   "source": [
    "pal.matplotlib.Viridis_20.get_mpl_colormap()"
   ]
  },
  {
   "cell_type": "code",
   "execution_count": 17,
   "id": "3374b487",
   "metadata": {},
   "outputs": [
    {
     "data": {
      "image/png": "[encoded data removed]",
      "text/plain": [
       "<IPython.core.display.Image object>"
      ]
     },
     "metadata": {},
     "output_type": "display_data"
    }
   ],
   "source": [
    "pal.matplotlib.Inferno_20.show_continuous_image()"
   ]
  },
  {
   "cell_type": "code",
   "execution_count": 18,
   "id": "600867c3",
   "metadata": {},
   "outputs": [
    {
     "data": {
      "image/png": "[encoded data removed]",
      "text/plain": [
       "<IPython.core.display.Image object>"
      ]
     },
     "metadata": {},
     "output_type": "display_data"
    }
   ],
   "source": [
    "pal.matplotlib.Magma_20.show_continuous_image()"
   ]
  },
  {
   "cell_type": "code",
   "execution_count": 19,
   "id": "08b66b43",
   "metadata": {},
   "outputs": [
    {
     "data": {
      "image/png": "[encoded data removed]",
      "text/plain": [
       "<IPython.core.display.Image object>"
      ]
     },
     "metadata": {},
     "output_type": "display_data"
    }
   ],
   "source": [
    "pal.matplotlib.Plasma_20.show_continuous_image()"
   ]
  },
  {
   "cell_type": "code",
   "execution_count": null,
   "id": "348ea37a",
   "metadata": {},
   "outputs": [],
   "source": []
  }
 ],
 "metadata": {
  "kernelspec": {
   "display_name": "Python 3 (ipykernel)",
   "language": "python",
   "name": "python3"
  },
  "language_info": {
   "codemirror_mode": {
    "name": "ipython",
    "version": 3
   },
   "file_extension": ".py",
   "mimetype": "text/x-python",
   "name": "python",
   "nbconvert_exporter": "python",
   "pygments_lexer": "ipython3",
   "version": "3.11.0"
  }
 },
 "nbformat": 4,
 "nbformat_minor": 5
}
